{
 "cells": [
  {
   "cell_type": "markdown",
   "metadata": {},
   "source": [
    "# Implementação\n",
    "\n",
    "Esse notebook descreve o processo de implementação do sistema de recomendação de filmes."
   ]
  },
  {
   "cell_type": "markdown",
   "metadata": {},
   "source": [
    "## 1 - Análise Exploratória\n",
    "\n",
    "Nessa primeira parte vamos analisar os dados de entrada, seus valores e seus relacionamentos, para compreender melhor como se comportam e como podem ser usados no sistema de recomendação."
   ]
  },
  {
   "cell_type": "code",
   "execution_count": 1,
   "metadata": {},
   "outputs": [],
   "source": [
    "import pandas as pd\n",
    "\n",
    "pd.set_option('max_columns',500)"
   ]
  },
  {
   "cell_type": "code",
   "execution_count": 2,
   "metadata": {},
   "outputs": [
    {
     "name": "stderr",
     "output_type": "stream",
     "text": [
      "/home/fernandosiqueira/anaconda3/lib/python3.6/site-packages/ipykernel_launcher.py:1: ParserWarning: Falling back to the 'python' engine because the 'c' engine does not support regex separators (separators > 1 char and different from '\\s+' are interpreted as regex); you can avoid this warning by specifying engine='python'.\n",
      "  \"\"\"Entry point for launching an IPython kernel.\n",
      "/home/fernandosiqueira/anaconda3/lib/python3.6/site-packages/ipykernel_launcher.py:2: ParserWarning: Falling back to the 'python' engine because the 'c' engine does not support regex separators (separators > 1 char and different from '\\s+' are interpreted as regex); you can avoid this warning by specifying engine='python'.\n",
      "  \n",
      "/home/fernandosiqueira/anaconda3/lib/python3.6/site-packages/ipykernel_launcher.py:3: ParserWarning: Falling back to the 'python' engine because the 'c' engine does not support regex separators (separators > 1 char and different from '\\s+' are interpreted as regex); you can avoid this warning by specifying engine='python'.\n",
      "  This is separate from the ipykernel package so we can avoid doing imports until\n"
     ]
    }
   ],
   "source": [
    "df_users = pd.read_csv('../data/raw/ml-1m/users.dat', sep='::', encoding='latin', names=['user_id', 'gender', 'age_group', 'occupation', 'cep'])\n",
    "df_movies = pd.read_csv('../data/raw/ml-1m/movies.dat', sep='::', encoding='latin', names=['movie_id', 'title', 'genres'])\n",
    "df_ratings = pd.read_csv('../data/raw/ml-1m/ratings.dat', sep='::', encoding='latin', names=['user_id', 'movie_id', 'rating', 'timestamp'])"
   ]
  },
  {
   "cell_type": "markdown",
   "metadata": {},
   "source": [
    "Ao total a base de dados é composta de 6 arquivos: \n",
    "\n",
    "- movies: informação sobre os filmes\n",
    "- ratings: nota que cada usuário deu a um filme\n",
    "- tags: conjunto de tags que cada usuário deu a cada filme\n",
    "- links: códigos dos filmes nos portais movielens, imdb e themoviedb\n",
    "- genome-score: relevância de cada tag em um filme\n",
    "- genome-tags: lista de tags\n",
    "\n",
    "Ao total a base de dados é composta de 3 arquivos: \n",
    "\n",
    "- movies: informação sobre os filmes\n",
    "- user: informação sobre usuário que deu nota ao filme\n",
    "- ratings: nota que cada usuário deu a um filme\n"
   ]
  },
  {
   "cell_type": "markdown",
   "metadata": {},
   "source": [
    "# 1.1 Pré-processamento\n",
    "\n",
    "Em um primeiro momento, vamos descrever brevemente os dados analisando informações como tipo das colunas, distribuição dos valores e valores nulos. Essa parte também vamos fazer um pré-processamento nas bases, criando novas features ou removendo registros nulos e inválidos."
   ]
  },
  {
   "cell_type": "code",
   "execution_count": 3,
   "metadata": {},
   "outputs": [],
   "source": [
    "import missingno as msno\n",
    "\n",
    "def data_description(df_data):\n",
    "    \"\"\"\n",
    "    Describe data values\n",
    "\n",
    "    Parameters\n",
    "    ----------\n",
    "\n",
    "    df_data : pandas DataFrame\n",
    "        Data to be describe\n",
    "\n",
    "    \"\"\"  \n",
    "    \n",
    "    print(df_data.info())\n",
    "    display(df_data.describe())\n",
    "    msno.matrix(df_data, figsize=(5,5))\n",
    "    display(df_data.head())"
   ]
  },
  {
   "cell_type": "markdown",
   "metadata": {},
   "source": [
    "### 1.1.1 Movies"
   ]
  },
  {
   "cell_type": "code",
   "execution_count": 53,
   "metadata": {},
   "outputs": [
    {
     "name": "stdout",
     "output_type": "stream",
     "text": [
      "<class 'pandas.core.frame.DataFrame'>\n",
      "RangeIndex: 3883 entries, 0 to 3882\n",
      "Data columns (total 3 columns):\n",
      "movie_id    3883 non-null int64\n",
      "title       3883 non-null object\n",
      "genres      3883 non-null object\n",
      "dtypes: int64(1), object(2)\n",
      "memory usage: 91.1+ KB\n",
      "None\n"
     ]
    },
    {
     "name": "stderr",
     "output_type": "stream",
     "text": [
      "/home/fernandosiqueira/anaconda3/lib/python3.6/site-packages/ipykernel_launcher.py:1: ParserWarning: Falling back to the 'python' engine because the 'c' engine does not support regex separators (separators > 1 char and different from '\\s+' are interpreted as regex); you can avoid this warning by specifying engine='python'.\n",
      "  \"\"\"Entry point for launching an IPython kernel.\n"
     ]
    },
    {
     "data": {
      "text/html": [
       "<div>\n",
       "<style scoped>\n",
       "    .dataframe tbody tr th:only-of-type {\n",
       "        vertical-align: middle;\n",
       "    }\n",
       "\n",
       "    .dataframe tbody tr th {\n",
       "        vertical-align: top;\n",
       "    }\n",
       "\n",
       "    .dataframe thead th {\n",
       "        text-align: right;\n",
       "    }\n",
       "</style>\n",
       "<table border=\"1\" class=\"dataframe\">\n",
       "  <thead>\n",
       "    <tr style=\"text-align: right;\">\n",
       "      <th></th>\n",
       "      <th>movie_id</th>\n",
       "    </tr>\n",
       "  </thead>\n",
       "  <tbody>\n",
       "    <tr>\n",
       "      <th>count</th>\n",
       "      <td>3883.000000</td>\n",
       "    </tr>\n",
       "    <tr>\n",
       "      <th>mean</th>\n",
       "      <td>1986.049446</td>\n",
       "    </tr>\n",
       "    <tr>\n",
       "      <th>std</th>\n",
       "      <td>1146.778349</td>\n",
       "    </tr>\n",
       "    <tr>\n",
       "      <th>min</th>\n",
       "      <td>1.000000</td>\n",
       "    </tr>\n",
       "    <tr>\n",
       "      <th>25%</th>\n",
       "      <td>982.500000</td>\n",
       "    </tr>\n",
       "    <tr>\n",
       "      <th>50%</th>\n",
       "      <td>2010.000000</td>\n",
       "    </tr>\n",
       "    <tr>\n",
       "      <th>75%</th>\n",
       "      <td>2980.500000</td>\n",
       "    </tr>\n",
       "    <tr>\n",
       "      <th>max</th>\n",
       "      <td>3952.000000</td>\n",
       "    </tr>\n",
       "  </tbody>\n",
       "</table>\n",
       "</div>"
      ],
      "text/plain": [
       "          movie_id\n",
       "count  3883.000000\n",
       "mean   1986.049446\n",
       "std    1146.778349\n",
       "min       1.000000\n",
       "25%     982.500000\n",
       "50%    2010.000000\n",
       "75%    2980.500000\n",
       "max    3952.000000"
      ]
     },
     "metadata": {},
     "output_type": "display_data"
    },
    {
     "data": {
      "text/html": [
       "<div>\n",
       "<style scoped>\n",
       "    .dataframe tbody tr th:only-of-type {\n",
       "        vertical-align: middle;\n",
       "    }\n",
       "\n",
       "    .dataframe tbody tr th {\n",
       "        vertical-align: top;\n",
       "    }\n",
       "\n",
       "    .dataframe thead th {\n",
       "        text-align: right;\n",
       "    }\n",
       "</style>\n",
       "<table border=\"1\" class=\"dataframe\">\n",
       "  <thead>\n",
       "    <tr style=\"text-align: right;\">\n",
       "      <th></th>\n",
       "      <th>movie_id</th>\n",
       "      <th>title</th>\n",
       "      <th>genres</th>\n",
       "    </tr>\n",
       "  </thead>\n",
       "  <tbody>\n",
       "    <tr>\n",
       "      <th>0</th>\n",
       "      <td>1</td>\n",
       "      <td>Toy Story (1995)</td>\n",
       "      <td>Animation|Children's|Comedy</td>\n",
       "    </tr>\n",
       "    <tr>\n",
       "      <th>1</th>\n",
       "      <td>2</td>\n",
       "      <td>Jumanji (1995)</td>\n",
       "      <td>Adventure|Children's|Fantasy</td>\n",
       "    </tr>\n",
       "    <tr>\n",
       "      <th>2</th>\n",
       "      <td>3</td>\n",
       "      <td>Grumpier Old Men (1995)</td>\n",
       "      <td>Comedy|Romance</td>\n",
       "    </tr>\n",
       "    <tr>\n",
       "      <th>3</th>\n",
       "      <td>4</td>\n",
       "      <td>Waiting to Exhale (1995)</td>\n",
       "      <td>Comedy|Drama</td>\n",
       "    </tr>\n",
       "    <tr>\n",
       "      <th>4</th>\n",
       "      <td>5</td>\n",
       "      <td>Father of the Bride Part II (1995)</td>\n",
       "      <td>Comedy</td>\n",
       "    </tr>\n",
       "  </tbody>\n",
       "</table>\n",
       "</div>"
      ],
      "text/plain": [
       "   movie_id                               title                        genres\n",
       "0         1                    Toy Story (1995)   Animation|Children's|Comedy\n",
       "1         2                      Jumanji (1995)  Adventure|Children's|Fantasy\n",
       "2         3             Grumpier Old Men (1995)                Comedy|Romance\n",
       "3         4            Waiting to Exhale (1995)                  Comedy|Drama\n",
       "4         5  Father of the Bride Part II (1995)                        Comedy"
      ]
     },
     "metadata": {},
     "output_type": "display_data"
    },
    {
     "data": {
      "image/png": "[encoded data removed]",
      "text/plain": [
       "<Figure size 360x360 with 2 Axes>"
      ]
     },
     "metadata": {
      "needs_background": "light"
     },
     "output_type": "display_data"
    }
   ],
   "source": [
    "data_description(df_movies)"
   ]
  },
  {
   "cell_type": "markdown",
   "metadata": {},
   "source": [
    "A base de filmes tem cerca de 3.800 filmes, com informações sobre seu identificador, título e gêneros. O ano do filme está atrelado ao seu título, enquanto o gênero é uma lista de gêneros do filme. Podemos fazer alguns ajustes na tabela de filme:\n",
    "\n",
    "- Ano: Extrair o ano do nome do filme\n",
    "- Gênero: Extrair o gênero da lista de gêneros\n",
    "\n",
    "Para extrair o ano vamos usar o conceito de expressão regular"
   ]
  },
  {
   "cell_type": "code",
   "execution_count": 4,
   "metadata": {},
   "outputs": [
    {
     "data": {
      "text/html": [
       "<div>\n",
       "<style scoped>\n",
       "    .dataframe tbody tr th:only-of-type {\n",
       "        vertical-align: middle;\n",
       "    }\n",
       "\n",
       "    .dataframe tbody tr th {\n",
       "        vertical-align: top;\n",
       "    }\n",
       "\n",
       "    .dataframe thead th {\n",
       "        text-align: right;\n",
       "    }\n",
       "</style>\n",
       "<table border=\"1\" class=\"dataframe\">\n",
       "  <thead>\n",
       "    <tr style=\"text-align: right;\">\n",
       "      <th></th>\n",
       "      <th>movie_id</th>\n",
       "      <th>title</th>\n",
       "      <th>genres</th>\n",
       "      <th>year</th>\n",
       "    </tr>\n",
       "  </thead>\n",
       "  <tbody>\n",
       "    <tr>\n",
       "      <th>0</th>\n",
       "      <td>1</td>\n",
       "      <td>Toy Story (1995)</td>\n",
       "      <td>Animation|Children's|Comedy</td>\n",
       "      <td>1995</td>\n",
       "    </tr>\n",
       "    <tr>\n",
       "      <th>1</th>\n",
       "      <td>2</td>\n",
       "      <td>Jumanji (1995)</td>\n",
       "      <td>Adventure|Children's|Fantasy</td>\n",
       "      <td>1995</td>\n",
       "    </tr>\n",
       "    <tr>\n",
       "      <th>2</th>\n",
       "      <td>3</td>\n",
       "      <td>Grumpier Old Men (1995)</td>\n",
       "      <td>Comedy|Romance</td>\n",
       "      <td>1995</td>\n",
       "    </tr>\n",
       "    <tr>\n",
       "      <th>3</th>\n",
       "      <td>4</td>\n",
       "      <td>Waiting to Exhale (1995)</td>\n",
       "      <td>Comedy|Drama</td>\n",
       "      <td>1995</td>\n",
       "    </tr>\n",
       "    <tr>\n",
       "      <th>4</th>\n",
       "      <td>5</td>\n",
       "      <td>Father of the Bride Part II (1995)</td>\n",
       "      <td>Comedy</td>\n",
       "      <td>1995</td>\n",
       "    </tr>\n",
       "  </tbody>\n",
       "</table>\n",
       "</div>"
      ],
      "text/plain": [
       "   movie_id                               title                        genres  \\\n",
       "0         1                    Toy Story (1995)   Animation|Children's|Comedy   \n",
       "1         2                      Jumanji (1995)  Adventure|Children's|Fantasy   \n",
       "2         3             Grumpier Old Men (1995)                Comedy|Romance   \n",
       "3         4            Waiting to Exhale (1995)                  Comedy|Drama   \n",
       "4         5  Father of the Bride Part II (1995)                        Comedy   \n",
       "\n",
       "   year  \n",
       "0  1995  \n",
       "1  1995  \n",
       "2  1995  \n",
       "3  1995  \n",
       "4  1995  "
      ]
     },
     "execution_count": 4,
     "metadata": {},
     "output_type": "execute_result"
    }
   ],
   "source": [
    "import re\n",
    "\n",
    "def extract_year_from_str(string):\n",
    "    year_pattern = re.compile('.*(\\d\\d\\d\\d)')\n",
    "    year_match = year_pattern.match(string=string)\n",
    "    \n",
    "    if year_match:\n",
    "        return int(year_match.group(1))\n",
    "    return None\n",
    "\n",
    "df_movies['year'] = df_movies['title'].apply(extract_year_from_str)\n",
    "df_movies.head()"
   ]
  },
  {
   "cell_type": "markdown",
   "metadata": {},
   "source": [
    "Já para extrair os gêneros podemos separar o texto dos gêneros e usar o get_dummies ou One Hot Encoder para transformar as categorias em colunas, separando o texto do gênero pelo caractere \"|\"."
   ]
  },
  {
   "cell_type": "code",
   "execution_count": 5,
   "metadata": {},
   "outputs": [
    {
     "data": {
      "text/html": [
       "<div>\n",
       "<style scoped>\n",
       "    .dataframe tbody tr th:only-of-type {\n",
       "        vertical-align: middle;\n",
       "    }\n",
       "\n",
       "    .dataframe tbody tr th {\n",
       "        vertical-align: top;\n",
       "    }\n",
       "\n",
       "    .dataframe thead th {\n",
       "        text-align: right;\n",
       "    }\n",
       "</style>\n",
       "<table border=\"1\" class=\"dataframe\">\n",
       "  <thead>\n",
       "    <tr style=\"text-align: right;\">\n",
       "      <th></th>\n",
       "      <th>movie_id</th>\n",
       "      <th>title</th>\n",
       "      <th>genres</th>\n",
       "      <th>year</th>\n",
       "      <th>Action</th>\n",
       "      <th>Adventure</th>\n",
       "      <th>Animation</th>\n",
       "      <th>Children's</th>\n",
       "      <th>Comedy</th>\n",
       "      <th>Crime</th>\n",
       "      <th>Documentary</th>\n",
       "      <th>Drama</th>\n",
       "      <th>Fantasy</th>\n",
       "      <th>Film-Noir</th>\n",
       "      <th>Horror</th>\n",
       "      <th>Musical</th>\n",
       "      <th>Mystery</th>\n",
       "      <th>Romance</th>\n",
       "      <th>Sci-Fi</th>\n",
       "      <th>Thriller</th>\n",
       "      <th>War</th>\n",
       "      <th>Western</th>\n",
       "    </tr>\n",
       "  </thead>\n",
       "  <tbody>\n",
       "    <tr>\n",
       "      <th>0</th>\n",
       "      <td>1</td>\n",
       "      <td>Toy Story (1995)</td>\n",
       "      <td>Animation|Children's|Comedy</td>\n",
       "      <td>1995</td>\n",
       "      <td>0</td>\n",
       "      <td>0</td>\n",
       "      <td>1</td>\n",
       "      <td>1</td>\n",
       "      <td>1</td>\n",
       "      <td>0</td>\n",
       "      <td>0</td>\n",
       "      <td>0</td>\n",
       "      <td>0</td>\n",
       "      <td>0</td>\n",
       "      <td>0</td>\n",
       "      <td>0</td>\n",
       "      <td>0</td>\n",
       "      <td>0</td>\n",
       "      <td>0</td>\n",
       "      <td>0</td>\n",
       "      <td>0</td>\n",
       "      <td>0</td>\n",
       "    </tr>\n",
       "    <tr>\n",
       "      <th>1</th>\n",
       "      <td>2</td>\n",
       "      <td>Jumanji (1995)</td>\n",
       "      <td>Adventure|Children's|Fantasy</td>\n",
       "      <td>1995</td>\n",
       "      <td>0</td>\n",
       "      <td>1</td>\n",
       "      <td>0</td>\n",
       "      <td>1</td>\n",
       "      <td>0</td>\n",
       "      <td>0</td>\n",
       "      <td>0</td>\n",
       "      <td>0</td>\n",
       "      <td>1</td>\n",
       "      <td>0</td>\n",
       "      <td>0</td>\n",
       "      <td>0</td>\n",
       "      <td>0</td>\n",
       "      <td>0</td>\n",
       "      <td>0</td>\n",
       "      <td>0</td>\n",
       "      <td>0</td>\n",
       "      <td>0</td>\n",
       "    </tr>\n",
       "    <tr>\n",
       "      <th>2</th>\n",
       "      <td>3</td>\n",
       "      <td>Grumpier Old Men (1995)</td>\n",
       "      <td>Comedy|Romance</td>\n",
       "      <td>1995</td>\n",
       "      <td>0</td>\n",
       "      <td>0</td>\n",
       "      <td>0</td>\n",
       "      <td>0</td>\n",
       "      <td>1</td>\n",
       "      <td>0</td>\n",
       "      <td>0</td>\n",
       "      <td>0</td>\n",
       "      <td>0</td>\n",
       "      <td>0</td>\n",
       "      <td>0</td>\n",
       "      <td>0</td>\n",
       "      <td>0</td>\n",
       "      <td>1</td>\n",
       "      <td>0</td>\n",
       "      <td>0</td>\n",
       "      <td>0</td>\n",
       "      <td>0</td>\n",
       "    </tr>\n",
       "    <tr>\n",
       "      <th>3</th>\n",
       "      <td>4</td>\n",
       "      <td>Waiting to Exhale (1995)</td>\n",
       "      <td>Comedy|Drama</td>\n",
       "      <td>1995</td>\n",
       "      <td>0</td>\n",
       "      <td>0</td>\n",
       "      <td>0</td>\n",
       "      <td>0</td>\n",
       "      <td>1</td>\n",
       "      <td>0</td>\n",
       "      <td>0</td>\n",
       "      <td>1</td>\n",
       "      <td>0</td>\n",
       "      <td>0</td>\n",
       "      <td>0</td>\n",
       "      <td>0</td>\n",
       "      <td>0</td>\n",
       "      <td>0</td>\n",
       "      <td>0</td>\n",
       "      <td>0</td>\n",
       "      <td>0</td>\n",
       "      <td>0</td>\n",
       "    </tr>\n",
       "    <tr>\n",
       "      <th>4</th>\n",
       "      <td>5</td>\n",
       "      <td>Father of the Bride Part II (1995)</td>\n",
       "      <td>Comedy</td>\n",
       "      <td>1995</td>\n",
       "      <td>0</td>\n",
       "      <td>0</td>\n",
       "      <td>0</td>\n",
       "      <td>0</td>\n",
       "      <td>1</td>\n",
       "      <td>0</td>\n",
       "      <td>0</td>\n",
       "      <td>0</td>\n",
       "      <td>0</td>\n",
       "      <td>0</td>\n",
       "      <td>0</td>\n",
       "      <td>0</td>\n",
       "      <td>0</td>\n",
       "      <td>0</td>\n",
       "      <td>0</td>\n",
       "      <td>0</td>\n",
       "      <td>0</td>\n",
       "      <td>0</td>\n",
       "    </tr>\n",
       "  </tbody>\n",
       "</table>\n",
       "</div>"
      ],
      "text/plain": [
       "   movie_id                               title                        genres  \\\n",
       "0         1                    Toy Story (1995)   Animation|Children's|Comedy   \n",
       "1         2                      Jumanji (1995)  Adventure|Children's|Fantasy   \n",
       "2         3             Grumpier Old Men (1995)                Comedy|Romance   \n",
       "3         4            Waiting to Exhale (1995)                  Comedy|Drama   \n",
       "4         5  Father of the Bride Part II (1995)                        Comedy   \n",
       "\n",
       "   year  Action  Adventure  Animation  Children's  Comedy  Crime  Documentary  \\\n",
       "0  1995       0          0          1           1       1      0            0   \n",
       "1  1995       0          1          0           1       0      0            0   \n",
       "2  1995       0          0          0           0       1      0            0   \n",
       "3  1995       0          0          0           0       1      0            0   \n",
       "4  1995       0          0          0           0       1      0            0   \n",
       "\n",
       "   Drama  Fantasy  Film-Noir  Horror  Musical  Mystery  Romance  Sci-Fi  \\\n",
       "0      0        0          0       0        0        0        0       0   \n",
       "1      0        1          0       0        0        0        0       0   \n",
       "2      0        0          0       0        0        0        1       0   \n",
       "3      1        0          0       0        0        0        0       0   \n",
       "4      0        0          0       0        0        0        0       0   \n",
       "\n",
       "   Thriller  War  Western  \n",
       "0         0    0        0  \n",
       "1         0    0        0  \n",
       "2         0    0        0  \n",
       "3         0    0        0  \n",
       "4         0    0        0  "
      ]
     },
     "execution_count": 5,
     "metadata": {},
     "output_type": "execute_result"
    }
   ],
   "source": [
    "df_genres = pd.get_dummies(df_movies['genres'].str.split('|', expand=True).stack(),  prefix='', prefix_sep='').sum(level=0)\n",
    "genres = df_genres.columns\n",
    "df_movies = pd.concat([df_movies, df_genres], axis=1)\n",
    "df_movies.to_csv('../data/processed/movies_processed.csv', index=False)\n",
    "df_movies.head()"
   ]
  },
  {
   "cell_type": "markdown",
   "metadata": {},
   "source": [
    "### 1.1.2 Users"
   ]
  },
  {
   "cell_type": "code",
   "execution_count": 20,
   "metadata": {},
   "outputs": [
    {
     "name": "stdout",
     "output_type": "stream",
     "text": [
      "<class 'pandas.core.frame.DataFrame'>\n",
      "RangeIndex: 6040 entries, 0 to 6039\n",
      "Data columns (total 5 columns):\n",
      "user_id       6040 non-null int64\n",
      "gender        6040 non-null object\n",
      "age_group     6040 non-null int64\n",
      "occupation    6040 non-null int64\n",
      "cep           6040 non-null object\n",
      "dtypes: int64(3), object(2)\n",
      "memory usage: 236.0+ KB\n",
      "None\n"
     ]
    },
    {
     "data": {
      "text/html": [
       "<div>\n",
       "<style scoped>\n",
       "    .dataframe tbody tr th:only-of-type {\n",
       "        vertical-align: middle;\n",
       "    }\n",
       "\n",
       "    .dataframe tbody tr th {\n",
       "        vertical-align: top;\n",
       "    }\n",
       "\n",
       "    .dataframe thead th {\n",
       "        text-align: right;\n",
       "    }\n",
       "</style>\n",
       "<table border=\"1\" class=\"dataframe\">\n",
       "  <thead>\n",
       "    <tr style=\"text-align: right;\">\n",
       "      <th></th>\n",
       "      <th>user_id</th>\n",
       "      <th>age_group</th>\n",
       "      <th>occupation</th>\n",
       "    </tr>\n",
       "  </thead>\n",
       "  <tbody>\n",
       "    <tr>\n",
       "      <th>count</th>\n",
       "      <td>6040.000000</td>\n",
       "      <td>6040.000000</td>\n",
       "      <td>6040.000000</td>\n",
       "    </tr>\n",
       "    <tr>\n",
       "      <th>mean</th>\n",
       "      <td>3020.500000</td>\n",
       "      <td>30.639238</td>\n",
       "      <td>8.146854</td>\n",
       "    </tr>\n",
       "    <tr>\n",
       "      <th>std</th>\n",
       "      <td>1743.742145</td>\n",
       "      <td>12.895962</td>\n",
       "      <td>6.329511</td>\n",
       "    </tr>\n",
       "    <tr>\n",
       "      <th>min</th>\n",
       "      <td>1.000000</td>\n",
       "      <td>1.000000</td>\n",
       "      <td>0.000000</td>\n",
       "    </tr>\n",
       "    <tr>\n",
       "      <th>25%</th>\n",
       "      <td>1510.750000</td>\n",
       "      <td>25.000000</td>\n",
       "      <td>3.000000</td>\n",
       "    </tr>\n",
       "    <tr>\n",
       "      <th>50%</th>\n",
       "      <td>3020.500000</td>\n",
       "      <td>25.000000</td>\n",
       "      <td>7.000000</td>\n",
       "    </tr>\n",
       "    <tr>\n",
       "      <th>75%</th>\n",
       "      <td>4530.250000</td>\n",
       "      <td>35.000000</td>\n",
       "      <td>14.000000</td>\n",
       "    </tr>\n",
       "    <tr>\n",
       "      <th>max</th>\n",
       "      <td>6040.000000</td>\n",
       "      <td>56.000000</td>\n",
       "      <td>20.000000</td>\n",
       "    </tr>\n",
       "  </tbody>\n",
       "</table>\n",
       "</div>"
      ],
      "text/plain": [
       "           user_id    age_group   occupation\n",
       "count  6040.000000  6040.000000  6040.000000\n",
       "mean   3020.500000    30.639238     8.146854\n",
       "std    1743.742145    12.895962     6.329511\n",
       "min       1.000000     1.000000     0.000000\n",
       "25%    1510.750000    25.000000     3.000000\n",
       "50%    3020.500000    25.000000     7.000000\n",
       "75%    4530.250000    35.000000    14.000000\n",
       "max    6040.000000    56.000000    20.000000"
      ]
     },
     "metadata": {},
     "output_type": "display_data"
    },
    {
     "data": {
      "text/html": [
       "<div>\n",
       "<style scoped>\n",
       "    .dataframe tbody tr th:only-of-type {\n",
       "        vertical-align: middle;\n",
       "    }\n",
       "\n",
       "    .dataframe tbody tr th {\n",
       "        vertical-align: top;\n",
       "    }\n",
       "\n",
       "    .dataframe thead th {\n",
       "        text-align: right;\n",
       "    }\n",
       "</style>\n",
       "<table border=\"1\" class=\"dataframe\">\n",
       "  <thead>\n",
       "    <tr style=\"text-align: right;\">\n",
       "      <th></th>\n",
       "      <th>user_id</th>\n",
       "      <th>gender</th>\n",
       "      <th>age_group</th>\n",
       "      <th>occupation</th>\n",
       "      <th>cep</th>\n",
       "    </tr>\n",
       "  </thead>\n",
       "  <tbody>\n",
       "    <tr>\n",
       "      <th>0</th>\n",
       "      <td>1</td>\n",
       "      <td>F</td>\n",
       "      <td>1</td>\n",
       "      <td>10</td>\n",
       "      <td>48067</td>\n",
       "    </tr>\n",
       "    <tr>\n",
       "      <th>1</th>\n",
       "      <td>2</td>\n",
       "      <td>M</td>\n",
       "      <td>56</td>\n",
       "      <td>16</td>\n",
       "      <td>70072</td>\n",
       "    </tr>\n",
       "    <tr>\n",
       "      <th>2</th>\n",
       "      <td>3</td>\n",
       "      <td>M</td>\n",
       "      <td>25</td>\n",
       "      <td>15</td>\n",
       "      <td>55117</td>\n",
       "    </tr>\n",
       "    <tr>\n",
       "      <th>3</th>\n",
       "      <td>4</td>\n",
       "      <td>M</td>\n",
       "      <td>45</td>\n",
       "      <td>7</td>\n",
       "      <td>02460</td>\n",
       "    </tr>\n",
       "    <tr>\n",
       "      <th>4</th>\n",
       "      <td>5</td>\n",
       "      <td>M</td>\n",
       "      <td>25</td>\n",
       "      <td>20</td>\n",
       "      <td>55455</td>\n",
       "    </tr>\n",
       "  </tbody>\n",
       "</table>\n",
       "</div>"
      ],
      "text/plain": [
       "   user_id gender  age_group  occupation    cep\n",
       "0        1      F          1          10  48067\n",
       "1        2      M         56          16  70072\n",
       "2        3      M         25          15  55117\n",
       "3        4      M         45           7  02460\n",
       "4        5      M         25          20  55455"
      ]
     },
     "metadata": {},
     "output_type": "display_data"
    },
    {
     "data": {
      "image/png": "[encoded data removed]",
      "text/plain": [
       "<Figure size 360x360 with 2 Axes>"
      ]
     },
     "metadata": {
      "needs_background": "light"
     },
     "output_type": "display_data"
    }
   ],
   "source": [
    "data_description(df_users)"
   ]
  },
  {
   "cell_type": "markdown",
   "metadata": {},
   "source": [
    "Os 6.000 usuários da base tem informações sobre seu gênero, faixa-etária, profissão e cep. Podemos definir os rótulos do grupo de idade e da profissão para ficar com informações mais amigáveis."
   ]
  },
  {
   "cell_type": "code",
   "execution_count": 6,
   "metadata": {},
   "outputs": [
    {
     "data": {
      "text/html": [
       "<div>\n",
       "<style scoped>\n",
       "    .dataframe tbody tr th:only-of-type {\n",
       "        vertical-align: middle;\n",
       "    }\n",
       "\n",
       "    .dataframe tbody tr th {\n",
       "        vertical-align: top;\n",
       "    }\n",
       "\n",
       "    .dataframe thead th {\n",
       "        text-align: right;\n",
       "    }\n",
       "</style>\n",
       "<table border=\"1\" class=\"dataframe\">\n",
       "  <thead>\n",
       "    <tr style=\"text-align: right;\">\n",
       "      <th></th>\n",
       "      <th>user_id</th>\n",
       "      <th>gender</th>\n",
       "      <th>age_group</th>\n",
       "      <th>occupation</th>\n",
       "      <th>cep</th>\n",
       "      <th>age_group_label</th>\n",
       "      <th>occupation_label</th>\n",
       "    </tr>\n",
       "  </thead>\n",
       "  <tbody>\n",
       "    <tr>\n",
       "      <th>0</th>\n",
       "      <td>1</td>\n",
       "      <td>F</td>\n",
       "      <td>1</td>\n",
       "      <td>10</td>\n",
       "      <td>48067</td>\n",
       "      <td>Under 18</td>\n",
       "      <td>K-12 student</td>\n",
       "    </tr>\n",
       "    <tr>\n",
       "      <th>1</th>\n",
       "      <td>2</td>\n",
       "      <td>M</td>\n",
       "      <td>56</td>\n",
       "      <td>16</td>\n",
       "      <td>70072</td>\n",
       "      <td>56+</td>\n",
       "      <td>self-employed</td>\n",
       "    </tr>\n",
       "    <tr>\n",
       "      <th>2</th>\n",
       "      <td>3</td>\n",
       "      <td>M</td>\n",
       "      <td>25</td>\n",
       "      <td>15</td>\n",
       "      <td>55117</td>\n",
       "      <td>25-34</td>\n",
       "      <td>scientist</td>\n",
       "    </tr>\n",
       "    <tr>\n",
       "      <th>3</th>\n",
       "      <td>4</td>\n",
       "      <td>M</td>\n",
       "      <td>45</td>\n",
       "      <td>7</td>\n",
       "      <td>02460</td>\n",
       "      <td>45-49</td>\n",
       "      <td>executive/managerial</td>\n",
       "    </tr>\n",
       "    <tr>\n",
       "      <th>4</th>\n",
       "      <td>5</td>\n",
       "      <td>M</td>\n",
       "      <td>25</td>\n",
       "      <td>20</td>\n",
       "      <td>55455</td>\n",
       "      <td>25-34</td>\n",
       "      <td>writer</td>\n",
       "    </tr>\n",
       "  </tbody>\n",
       "</table>\n",
       "</div>"
      ],
      "text/plain": [
       "   user_id gender  age_group  occupation    cep age_group_label  \\\n",
       "0        1      F          1          10  48067        Under 18   \n",
       "1        2      M         56          16  70072             56+   \n",
       "2        3      M         25          15  55117           25-34   \n",
       "3        4      M         45           7  02460           45-49   \n",
       "4        5      M         25          20  55455           25-34   \n",
       "\n",
       "       occupation_label  \n",
       "0          K-12 student  \n",
       "1         self-employed  \n",
       "2             scientist  \n",
       "3  executive/managerial  \n",
       "4                writer  "
      ]
     },
     "execution_count": 6,
     "metadata": {},
     "output_type": "execute_result"
    }
   ],
   "source": [
    "age_group_label = {\n",
    "    1:  'Under 18',\n",
    "    18:  '18-24',\n",
    "    25:  '25-34',\n",
    "    35:  '35-44',\n",
    "    45:  '45-49',\n",
    "    50:  '50-55',\n",
    "    56:  '56+',\n",
    "}\n",
    "\n",
    "occupation_label = {\n",
    "    0:  'other',\n",
    "    1:  'academic/educator',\n",
    "    2:  'artist',\n",
    "    3:  'clerical/admin',\n",
    "    4:  'college/grad student',\n",
    "    5:  'customer service',\n",
    "    6:  'doctor/health care',\n",
    "    7:  'executive/managerial',\n",
    "    8:  'farmer',\n",
    "    9:  'homemaker',\n",
    "    10:  'K-12 student',\n",
    "    11:  'lawyer',\n",
    "    12:  'programmer',\n",
    "    13:  'retired',\n",
    "    14:  'sales/marketing',\n",
    "    15:  'scientist',\n",
    "    16:  'self-employed',\n",
    "    17:  'technician/engineer',\n",
    "    18:  'tradesman/craftsman',\n",
    "    19:  'unemployed',\n",
    "    20:  'writer',\n",
    "}\n",
    "\n",
    "df_users['age_group_label'] = df_users['age_group'].map(age_group_label)\n",
    "df_users['occupation_label'] = df_users['occupation'].map(occupation_label)\n",
    "df_users.to_csv('../data/processed/users_processed.csv', index=False)\n",
    "df_users.head()"
   ]
  },
  {
   "cell_type": "markdown",
   "metadata": {},
   "source": [
    "## 1.1.3 Rattings"
   ]
  },
  {
   "cell_type": "code",
   "execution_count": 23,
   "metadata": {},
   "outputs": [
    {
     "name": "stdout",
     "output_type": "stream",
     "text": [
      "<class 'pandas.core.frame.DataFrame'>\n",
      "RangeIndex: 1000209 entries, 0 to 1000208\n",
      "Data columns (total 4 columns):\n",
      "user_id      1000209 non-null int64\n",
      "movie_id     1000209 non-null int64\n",
      "rating       1000209 non-null int64\n",
      "timestamp    1000209 non-null int64\n",
      "dtypes: int64(4)\n",
      "memory usage: 30.5 MB\n",
      "None\n"
     ]
    },
    {
     "data": {
      "text/html": [
       "<div>\n",
       "<style scoped>\n",
       "    .dataframe tbody tr th:only-of-type {\n",
       "        vertical-align: middle;\n",
       "    }\n",
       "\n",
       "    .dataframe tbody tr th {\n",
       "        vertical-align: top;\n",
       "    }\n",
       "\n",
       "    .dataframe thead th {\n",
       "        text-align: right;\n",
       "    }\n",
       "</style>\n",
       "<table border=\"1\" class=\"dataframe\">\n",
       "  <thead>\n",
       "    <tr style=\"text-align: right;\">\n",
       "      <th></th>\n",
       "      <th>user_id</th>\n",
       "      <th>movie_id</th>\n",
       "      <th>rating</th>\n",
       "      <th>timestamp</th>\n",
       "    </tr>\n",
       "  </thead>\n",
       "  <tbody>\n",
       "    <tr>\n",
       "      <th>count</th>\n",
       "      <td>1.000209e+06</td>\n",
       "      <td>1.000209e+06</td>\n",
       "      <td>1.000209e+06</td>\n",
       "      <td>1.000209e+06</td>\n",
       "    </tr>\n",
       "    <tr>\n",
       "      <th>mean</th>\n",
       "      <td>3.024512e+03</td>\n",
       "      <td>1.865540e+03</td>\n",
       "      <td>3.581564e+00</td>\n",
       "      <td>9.722437e+08</td>\n",
       "    </tr>\n",
       "    <tr>\n",
       "      <th>std</th>\n",
       "      <td>1.728413e+03</td>\n",
       "      <td>1.096041e+03</td>\n",
       "      <td>1.117102e+00</td>\n",
       "      <td>1.215256e+07</td>\n",
       "    </tr>\n",
       "    <tr>\n",
       "      <th>min</th>\n",
       "      <td>1.000000e+00</td>\n",
       "      <td>1.000000e+00</td>\n",
       "      <td>1.000000e+00</td>\n",
       "      <td>9.567039e+08</td>\n",
       "    </tr>\n",
       "    <tr>\n",
       "      <th>25%</th>\n",
       "      <td>1.506000e+03</td>\n",
       "      <td>1.030000e+03</td>\n",
       "      <td>3.000000e+00</td>\n",
       "      <td>9.653026e+08</td>\n",
       "    </tr>\n",
       "    <tr>\n",
       "      <th>50%</th>\n",
       "      <td>3.070000e+03</td>\n",
       "      <td>1.835000e+03</td>\n",
       "      <td>4.000000e+00</td>\n",
       "      <td>9.730180e+08</td>\n",
       "    </tr>\n",
       "    <tr>\n",
       "      <th>75%</th>\n",
       "      <td>4.476000e+03</td>\n",
       "      <td>2.770000e+03</td>\n",
       "      <td>4.000000e+00</td>\n",
       "      <td>9.752209e+08</td>\n",
       "    </tr>\n",
       "    <tr>\n",
       "      <th>max</th>\n",
       "      <td>6.040000e+03</td>\n",
       "      <td>3.952000e+03</td>\n",
       "      <td>5.000000e+00</td>\n",
       "      <td>1.046455e+09</td>\n",
       "    </tr>\n",
       "  </tbody>\n",
       "</table>\n",
       "</div>"
      ],
      "text/plain": [
       "            user_id      movie_id        rating     timestamp\n",
       "count  1.000209e+06  1.000209e+06  1.000209e+06  1.000209e+06\n",
       "mean   3.024512e+03  1.865540e+03  3.581564e+00  9.722437e+08\n",
       "std    1.728413e+03  1.096041e+03  1.117102e+00  1.215256e+07\n",
       "min    1.000000e+00  1.000000e+00  1.000000e+00  9.567039e+08\n",
       "25%    1.506000e+03  1.030000e+03  3.000000e+00  9.653026e+08\n",
       "50%    3.070000e+03  1.835000e+03  4.000000e+00  9.730180e+08\n",
       "75%    4.476000e+03  2.770000e+03  4.000000e+00  9.752209e+08\n",
       "max    6.040000e+03  3.952000e+03  5.000000e+00  1.046455e+09"
      ]
     },
     "metadata": {},
     "output_type": "display_data"
    },
    {
     "data": {
      "text/html": [
       "<div>\n",
       "<style scoped>\n",
       "    .dataframe tbody tr th:only-of-type {\n",
       "        vertical-align: middle;\n",
       "    }\n",
       "\n",
       "    .dataframe tbody tr th {\n",
       "        vertical-align: top;\n",
       "    }\n",
       "\n",
       "    .dataframe thead th {\n",
       "        text-align: right;\n",
       "    }\n",
       "</style>\n",
       "<table border=\"1\" class=\"dataframe\">\n",
       "  <thead>\n",
       "    <tr style=\"text-align: right;\">\n",
       "      <th></th>\n",
       "      <th>user_id</th>\n",
       "      <th>movie_id</th>\n",
       "      <th>rating</th>\n",
       "      <th>timestamp</th>\n",
       "    </tr>\n",
       "  </thead>\n",
       "  <tbody>\n",
       "    <tr>\n",
       "      <th>0</th>\n",
       "      <td>1</td>\n",
       "      <td>1193</td>\n",
       "      <td>5</td>\n",
       "      <td>978300760</td>\n",
       "    </tr>\n",
       "    <tr>\n",
       "      <th>1</th>\n",
       "      <td>1</td>\n",
       "      <td>661</td>\n",
       "      <td>3</td>\n",
       "      <td>978302109</td>\n",
       "    </tr>\n",
       "    <tr>\n",
       "      <th>2</th>\n",
       "      <td>1</td>\n",
       "      <td>914</td>\n",
       "      <td>3</td>\n",
       "      <td>978301968</td>\n",
       "    </tr>\n",
       "    <tr>\n",
       "      <th>3</th>\n",
       "      <td>1</td>\n",
       "      <td>3408</td>\n",
       "      <td>4</td>\n",
       "      <td>978300275</td>\n",
       "    </tr>\n",
       "    <tr>\n",
       "      <th>4</th>\n",
       "      <td>1</td>\n",
       "      <td>2355</td>\n",
       "      <td>5</td>\n",
       "      <td>978824291</td>\n",
       "    </tr>\n",
       "  </tbody>\n",
       "</table>\n",
       "</div>"
      ],
      "text/plain": [
       "   user_id  movie_id  rating  timestamp\n",
       "0        1      1193       5  978300760\n",
       "1        1       661       3  978302109\n",
       "2        1       914       3  978301968\n",
       "3        1      3408       4  978300275\n",
       "4        1      2355       5  978824291"
      ]
     },
     "metadata": {},
     "output_type": "display_data"
    },
    {
     "data": {
      "image/png": "[encoded data removed]",
      "text/plain": [
       "<Figure size 360x360 with 2 Axes>"
      ]
     },
     "metadata": {
      "needs_background": "light"
     },
     "output_type": "display_data"
    }
   ],
   "source": [
    "data_description(df_ratings)"
   ]
  },
  {
   "cell_type": "markdown",
   "metadata": {},
   "source": [
    "A princípio não existe nenhum problema com a tabela de ratings. Não tem dados nulos ou inválidos. Podemos verificar se todos os valores de movie_id e user_id estão presentes em ratings."
   ]
  },
  {
   "cell_type": "code",
   "execution_count": 24,
   "metadata": {},
   "outputs": [
    {
     "data": {
      "text/plain": [
       "True"
      ]
     },
     "execution_count": 24,
     "metadata": {},
     "output_type": "execute_result"
    }
   ],
   "source": [
    "df_ratings['movie_id'].isin(df_movies['movie_id']).all()"
   ]
  },
  {
   "cell_type": "code",
   "execution_count": 25,
   "metadata": {},
   "outputs": [
    {
     "data": {
      "text/plain": [
       "True"
      ]
     },
     "execution_count": 25,
     "metadata": {},
     "output_type": "execute_result"
    }
   ],
   "source": [
    "df_ratings['user_id'].isin(df_users['user_id']).all()"
   ]
  },
  {
   "cell_type": "markdown",
   "metadata": {},
   "source": [
    "## 1.1.4 Bônus: Links"
   ]
  },
  {
   "cell_type": "markdown",
   "metadata": {},
   "source": [
    "Apesar da tabela Links não pertencer originalmente a base de dados ml-1M, ela foi obtida da base ml-20M para efeitos de enriquecimento de dados."
   ]
  },
  {
   "cell_type": "code",
   "execution_count": 7,
   "metadata": {},
   "outputs": [
    {
     "name": "stdout",
     "output_type": "stream",
     "text": [
      "<class 'pandas.core.frame.DataFrame'>\n",
      "RangeIndex: 27278 entries, 0 to 27277\n",
      "Data columns (total 3 columns):\n",
      "movieId    27278 non-null int64\n",
      "imdbId     27278 non-null int64\n",
      "tmdbId     27026 non-null float64\n",
      "dtypes: float64(1), int64(2)\n",
      "memory usage: 639.4 KB\n",
      "None\n"
     ]
    },
    {
     "data": {
      "text/html": [
       "<div>\n",
       "<style scoped>\n",
       "    .dataframe tbody tr th:only-of-type {\n",
       "        vertical-align: middle;\n",
       "    }\n",
       "\n",
       "    .dataframe tbody tr th {\n",
       "        vertical-align: top;\n",
       "    }\n",
       "\n",
       "    .dataframe thead th {\n",
       "        text-align: right;\n",
       "    }\n",
       "</style>\n",
       "<table border=\"1\" class=\"dataframe\">\n",
       "  <thead>\n",
       "    <tr style=\"text-align: right;\">\n",
       "      <th></th>\n",
       "      <th>movieId</th>\n",
       "      <th>imdbId</th>\n",
       "      <th>tmdbId</th>\n",
       "    </tr>\n",
       "  </thead>\n",
       "  <tbody>\n",
       "    <tr>\n",
       "      <th>count</th>\n",
       "      <td>27278.000000</td>\n",
       "      <td>2.727800e+04</td>\n",
       "      <td>27026.000000</td>\n",
       "    </tr>\n",
       "    <tr>\n",
       "      <th>mean</th>\n",
       "      <td>59855.480570</td>\n",
       "      <td>5.781860e+05</td>\n",
       "      <td>63846.683083</td>\n",
       "    </tr>\n",
       "    <tr>\n",
       "      <th>std</th>\n",
       "      <td>44429.314697</td>\n",
       "      <td>7.804707e+05</td>\n",
       "      <td>69862.134497</td>\n",
       "    </tr>\n",
       "    <tr>\n",
       "      <th>min</th>\n",
       "      <td>1.000000</td>\n",
       "      <td>5.000000e+00</td>\n",
       "      <td>2.000000</td>\n",
       "    </tr>\n",
       "    <tr>\n",
       "      <th>25%</th>\n",
       "      <td>6931.250000</td>\n",
       "      <td>7.741725e+04</td>\n",
       "      <td>15936.500000</td>\n",
       "    </tr>\n",
       "    <tr>\n",
       "      <th>50%</th>\n",
       "      <td>68068.000000</td>\n",
       "      <td>1.524350e+05</td>\n",
       "      <td>39468.500000</td>\n",
       "    </tr>\n",
       "    <tr>\n",
       "      <th>75%</th>\n",
       "      <td>100293.250000</td>\n",
       "      <td>9.062715e+05</td>\n",
       "      <td>82504.000000</td>\n",
       "    </tr>\n",
       "    <tr>\n",
       "      <th>max</th>\n",
       "      <td>131262.000000</td>\n",
       "      <td>4.530184e+06</td>\n",
       "      <td>421510.000000</td>\n",
       "    </tr>\n",
       "  </tbody>\n",
       "</table>\n",
       "</div>"
      ],
      "text/plain": [
       "             movieId        imdbId         tmdbId\n",
       "count   27278.000000  2.727800e+04   27026.000000\n",
       "mean    59855.480570  5.781860e+05   63846.683083\n",
       "std     44429.314697  7.804707e+05   69862.134497\n",
       "min         1.000000  5.000000e+00       2.000000\n",
       "25%      6931.250000  7.741725e+04   15936.500000\n",
       "50%     68068.000000  1.524350e+05   39468.500000\n",
       "75%    100293.250000  9.062715e+05   82504.000000\n",
       "max    131262.000000  4.530184e+06  421510.000000"
      ]
     },
     "metadata": {},
     "output_type": "display_data"
    },
    {
     "data": {
      "text/html": [
       "<div>\n",
       "<style scoped>\n",
       "    .dataframe tbody tr th:only-of-type {\n",
       "        vertical-align: middle;\n",
       "    }\n",
       "\n",
       "    .dataframe tbody tr th {\n",
       "        vertical-align: top;\n",
       "    }\n",
       "\n",
       "    .dataframe thead th {\n",
       "        text-align: right;\n",
       "    }\n",
       "</style>\n",
       "<table border=\"1\" class=\"dataframe\">\n",
       "  <thead>\n",
       "    <tr style=\"text-align: right;\">\n",
       "      <th></th>\n",
       "      <th>movieId</th>\n",
       "      <th>imdbId</th>\n",
       "      <th>tmdbId</th>\n",
       "    </tr>\n",
       "  </thead>\n",
       "  <tbody>\n",
       "    <tr>\n",
       "      <th>0</th>\n",
       "      <td>1</td>\n",
       "      <td>114709</td>\n",
       "      <td>862.0</td>\n",
       "    </tr>\n",
       "    <tr>\n",
       "      <th>1</th>\n",
       "      <td>2</td>\n",
       "      <td>113497</td>\n",
       "      <td>8844.0</td>\n",
       "    </tr>\n",
       "    <tr>\n",
       "      <th>2</th>\n",
       "      <td>3</td>\n",
       "      <td>113228</td>\n",
       "      <td>15602.0</td>\n",
       "    </tr>\n",
       "    <tr>\n",
       "      <th>3</th>\n",
       "      <td>4</td>\n",
       "      <td>114885</td>\n",
       "      <td>31357.0</td>\n",
       "    </tr>\n",
       "    <tr>\n",
       "      <th>4</th>\n",
       "      <td>5</td>\n",
       "      <td>113041</td>\n",
       "      <td>11862.0</td>\n",
       "    </tr>\n",
       "  </tbody>\n",
       "</table>\n",
       "</div>"
      ],
      "text/plain": [
       "   movieId  imdbId   tmdbId\n",
       "0        1  114709    862.0\n",
       "1        2  113497   8844.0\n",
       "2        3  113228  15602.0\n",
       "3        4  114885  31357.0\n",
       "4        5  113041  11862.0"
      ]
     },
     "metadata": {},
     "output_type": "display_data"
    },
    {
     "data": {
      "image/png": "[encoded data removed]",
      "text/plain": [
       "<Figure size 360x360 with 2 Axes>"
      ]
     },
     "metadata": {
      "needs_background": "light"
     },
     "output_type": "display_data"
    }
   ],
   "source": [
    "df_links = pd.read_csv('../data/raw/ml-20m/links.csv')\n",
    "data_description(df_links)"
   ]
  },
  {
   "cell_type": "markdown",
   "metadata": {},
   "source": [
    "Apesar de ter alguns registros com o tmdbid nulo, ele não é obrigatório para nossa análise. A base, entretanto, tem os 27 mil filmes originais. A base atual tem apenas 6 mil filmes. Logo só iremos necessitar dos filmes contidos na base.\n",
    "\n"
   ]
  },
  {
   "cell_type": "code",
   "execution_count": 6,
   "metadata": {},
   "outputs": [],
   "source": [
    "df_links = df_links[df_links['movieId'].isin(df_movies['movie_id'])]"
   ]
  },
  {
   "cell_type": "markdown",
   "metadata": {},
   "source": [
    "Para complementar a base, podemos buscar as descrições dos filmes do imdb. Como a base do MovieLens precisa de autenticação e a base do TheMovieDB não tem todos filmes, não será capturado as descrições dessas bases, mas poderia fazer um processo de web-scrapping similar."
   ]
  },
  {
   "cell_type": "code",
   "execution_count": 3,
   "metadata": {},
   "outputs": [
    {
     "data": {
      "text/plain": [
       "\"Waiting to Exhale is a movie starring Whitney Houston, Angela Bassett, and Loretta Devine. Based on Terry McMillan's novel, this film follows four very different African-American women and their relationships with the male gender.\""
      ]
     },
     "execution_count": 3,
     "metadata": {},
     "output_type": "execute_result"
    }
   ],
   "source": [
    "from lxml import html\n",
    "import requests\n",
    "import json\n",
    "\n",
    "def get_imbd_description(imdbid):\n",
    "    imdbid = str(imdbid)\n",
    "    while len(imdbid)<7:\n",
    "        imdbid='0'+imdbid\n",
    "    \n",
    "    r= requests.get('http://www.imdb.com/title/tt{}/'.format(imdbid))\n",
    "    tree = html.fromstring(r.content)\n",
    "    try:\n",
    "        a = tree.xpath('//script[@type=\"application/ld+json\"]/text()')\n",
    "        return json.loads(a[0])['description']\n",
    "    except Exception as e:\n",
    "        return None\n",
    "    \n",
    "get_imbd_description(114885)"
   ]
  },
  {
   "cell_type": "code",
   "execution_count": null,
   "metadata": {},
   "outputs": [],
   "source": [
    "#ATENÇÃO: processo leva muito tempo!\n",
    "#df_link['imdb_description'] = df_link['imdbId'].apply(get_imbd_description)"
   ]
  },
  {
   "cell_type": "markdown",
   "metadata": {},
   "source": [
    "Com a descrição dos filmes é possível, por exemplo, aplicar técnicas de NLP para identificar similaridades entre filmes."
   ]
  },
  {
   "cell_type": "markdown",
   "metadata": {},
   "source": [
    "_________________________________________________"
   ]
  },
  {
   "cell_type": "markdown",
   "metadata": {},
   "source": [
    "## 2 Análise Exploratória"
   ]
  },
  {
   "cell_type": "markdown",
   "metadata": {},
   "source": [
    "Após verificar os dados e fazer o pré-processamento, podemos levantar algumas hipóteses para serem validadas na análise exploratória:\n",
    "\n",
    "#### Filmes com maior número de avaliações tendem a ter notas mais extremas\n",
    "\n",
    "Filmes famosos são sempre alvo de fãs ou haters. Por isso é de se esperar que filmes com um número maior de avaliações vão apresentar ter dois possíveis cenários:\n",
    "\n",
    "- O filme será bem avaliado\n",
    "- O filme terá um desvio padrão maior nas notas\n",
    "\n",
    "Essa hipótese se baseia na motivação de um usuário dar uma nota a um filme. Explicitar, diretamente, sua opinião um filme requer um engajamento com uma ferramenta, que é motivada, principalmente, por uma paixão ou revolta com o produto consumido.\n",
    "\n",
    "#### O sexo do usuário influencia no tipo de filme avaliado\n",
    "\n",
    "Vivemos em uma sociedade patriarcal onde Hollywood, além de não fugir dessa premissa, reforça alguns papéis em suas obras. Logo, existem gêneros de filmes que apelam para públicos específicos. Por exemplo, filmes de romance ou drama usualmente tem características ditas femininas, enquanto filmes de ação e guerra, masculinas.\n",
    "\n",
    "É de se esperar que tenha diferença tanto no número de avaliações de filmes desses gêneros quanto em notas.\n",
    "\n",
    "\n",
    "\n"
   ]
  },
  {
   "cell_type": "markdown",
   "metadata": {},
   "source": [
    "## 2.1 Filmes com maior número de avaliações tendem a ter notas mais extremas\n",
    "\n",
    "Para validar essa hipóte será preciso calcular o número de avaliações de cada filme e informações sobre suas notas como, por exemplo, nota máxima, mínima, média, mediana e desvio padrão."
   ]
  },
  {
   "cell_type": "code",
   "execution_count": 7,
   "metadata": {},
   "outputs": [
    {
     "data": {
      "text/html": [
       "<div>\n",
       "<style scoped>\n",
       "    .dataframe tbody tr th:only-of-type {\n",
       "        vertical-align: middle;\n",
       "    }\n",
       "\n",
       "    .dataframe tbody tr th {\n",
       "        vertical-align: top;\n",
       "    }\n",
       "\n",
       "    .dataframe thead th {\n",
       "        text-align: right;\n",
       "    }\n",
       "</style>\n",
       "<table border=\"1\" class=\"dataframe\">\n",
       "  <thead>\n",
       "    <tr style=\"text-align: right;\">\n",
       "      <th></th>\n",
       "      <th>title</th>\n",
       "      <th>mean</th>\n",
       "      <th>max</th>\n",
       "      <th>min</th>\n",
       "      <th>median</th>\n",
       "      <th>std</th>\n",
       "      <th>len</th>\n",
       "    </tr>\n",
       "    <tr>\n",
       "      <th>movie_id</th>\n",
       "      <th></th>\n",
       "      <th></th>\n",
       "      <th></th>\n",
       "      <th></th>\n",
       "      <th></th>\n",
       "      <th></th>\n",
       "      <th></th>\n",
       "    </tr>\n",
       "  </thead>\n",
       "  <tbody>\n",
       "    <tr>\n",
       "      <th>1</th>\n",
       "      <td>Toy Story (1995)</td>\n",
       "      <td>4.146846</td>\n",
       "      <td>5</td>\n",
       "      <td>1</td>\n",
       "      <td>4.0</td>\n",
       "      <td>0.852349</td>\n",
       "      <td>2077</td>\n",
       "    </tr>\n",
       "    <tr>\n",
       "      <th>2</th>\n",
       "      <td>Jumanji (1995)</td>\n",
       "      <td>3.201141</td>\n",
       "      <td>5</td>\n",
       "      <td>1</td>\n",
       "      <td>3.0</td>\n",
       "      <td>0.983172</td>\n",
       "      <td>701</td>\n",
       "    </tr>\n",
       "    <tr>\n",
       "      <th>3</th>\n",
       "      <td>Grumpier Old Men (1995)</td>\n",
       "      <td>3.016736</td>\n",
       "      <td>5</td>\n",
       "      <td>1</td>\n",
       "      <td>3.0</td>\n",
       "      <td>1.071712</td>\n",
       "      <td>478</td>\n",
       "    </tr>\n",
       "    <tr>\n",
       "      <th>4</th>\n",
       "      <td>Waiting to Exhale (1995)</td>\n",
       "      <td>2.729412</td>\n",
       "      <td>5</td>\n",
       "      <td>1</td>\n",
       "      <td>3.0</td>\n",
       "      <td>1.013381</td>\n",
       "      <td>170</td>\n",
       "    </tr>\n",
       "    <tr>\n",
       "      <th>5</th>\n",
       "      <td>Father of the Bride Part II (1995)</td>\n",
       "      <td>3.006757</td>\n",
       "      <td>5</td>\n",
       "      <td>1</td>\n",
       "      <td>3.0</td>\n",
       "      <td>1.025086</td>\n",
       "      <td>296</td>\n",
       "    </tr>\n",
       "  </tbody>\n",
       "</table>\n",
       "</div>"
      ],
      "text/plain": [
       "                                       title      mean  max  min  median  \\\n",
       "movie_id                                                                   \n",
       "1                           Toy Story (1995)  4.146846    5    1     4.0   \n",
       "2                             Jumanji (1995)  3.201141    5    1     3.0   \n",
       "3                    Grumpier Old Men (1995)  3.016736    5    1     3.0   \n",
       "4                   Waiting to Exhale (1995)  2.729412    5    1     3.0   \n",
       "5         Father of the Bride Part II (1995)  3.006757    5    1     3.0   \n",
       "\n",
       "               std   len  \n",
       "movie_id                  \n",
       "1         0.852349  2077  \n",
       "2         0.983172   701  \n",
       "3         1.071712   478  \n",
       "4         1.013381   170  \n",
       "5         1.025086   296  "
      ]
     },
     "execution_count": 7,
     "metadata": {},
     "output_type": "execute_result"
    }
   ],
   "source": [
    "import numpy as np\n",
    "\n",
    "df_hip1 = (\n",
    "    pd.DataFrame(df_movies[['movie_id', 'title']])\n",
    "    .set_index('movie_id')\n",
    "    .merge(df_ratings.groupby('movie_id').agg({'rating':[np.mean, max, min, np.median, np.std, len]})['rating'], left_index=True, right_index=True) \n",
    ")\n",
    "\n",
    "df_hip1.head()"
   ]
  },
  {
   "cell_type": "code",
   "execution_count": 8,
   "metadata": {},
   "outputs": [
    {
     "data": {
      "image/png": "[encoded data removed]",
      "text/plain": [
       "<Figure size 720x360 with 1 Axes>"
      ]
     },
     "metadata": {
      "needs_background": "light"
     },
     "output_type": "display_data"
    }
   ],
   "source": [
    "%matplotlib inline  \n",
    "import matplotlib.pyplot as plt\n",
    "import seaborn as sns\n",
    "\n",
    "plt.figure(figsize=(10,5))\n",
    "plt.scatter(df_hip1['len'], df_hip1['mean'])\n",
    "plt.xlabel('number of rattings')\n",
    "plt.ylabel('ratting mean')\n",
    "plt.title('Number of rattings by the mean')\n",
    "sns.despine()"
   ]
  },
  {
   "cell_type": "markdown",
   "metadata": {},
   "source": [
    "O gráfico demonstra que, quanto maior o número de avaliações, mais concentrada é a média dos filmes, tentendo para valores acima de 4. Logo filmes muito avaliados são, geralmente, bem avaliados, enquanto filmes com poucas avaliações tem alta variação em suas médias.\n",
    "\n",
    "Podemos verificar o comportamento do desvio padrão também."
   ]
  },
  {
   "cell_type": "code",
   "execution_count": 159,
   "metadata": {},
   "outputs": [
    {
     "data": {
      "image/png": "[encoded data removed]",
      "text/plain": [
       "<Figure size 720x360 with 1 Axes>"
      ]
     },
     "metadata": {
      "needs_background": "light"
     },
     "output_type": "display_data"
    }
   ],
   "source": [
    "plt.figure(figsize=(10,5))\n",
    "plt.scatter(df_hip1['len'], df_hip1['std'])\n",
    "plt.xlabel('number of rattings')\n",
    "plt.ylabel('std')\n",
    "plt.title('Number of rattings by the standart deviation')\n",
    "sns.despine()"
   ]
  },
  {
   "cell_type": "markdown",
   "metadata": {},
   "source": [
    "Apesar de filmes com mais avaliações terem notas mais altas,ao contrário do que se imaginou, o desvio padrão tende a se normalizar quanto maior o número de reviews. Isso indica que filmes com alto número de avaliações tendem a ter notas altas e consistentes e são bons candidatos para recomendação, enquanto filmes com poucas avaliações tem notas variadas, sendo necessário mais informações para decidir se são boas recomendações."
   ]
  },
  {
   "cell_type": "markdown",
   "metadata": {},
   "source": [
    "Podemos validar se o número de avaliações impacta no valor das notas aplicando o teste-t tendo como hipóteses:\n",
    "\n",
    "- Hipótese nula: O número de avaliações não indica mudança as notas\n",
    "- Hipótese alternativa: O número de avaliações influencia nas notas\n",
    "\n",
    "Para definir o que é um alto número de avaliações, verificamos qual a distribuição do número de avaliações por filme."
   ]
  },
  {
   "cell_type": "code",
   "execution_count": 73,
   "metadata": {},
   "outputs": [
    {
     "data": {
      "text/plain": [
       "count    3706.000000\n",
       "mean      269.889099\n",
       "std       384.047838\n",
       "min         1.000000\n",
       "25%        33.000000\n",
       "50%       123.500000\n",
       "75%       350.000000\n",
       "max      3428.000000\n",
       "Name: len, dtype: float64"
      ]
     },
     "execution_count": 73,
     "metadata": {},
     "output_type": "execute_result"
    }
   ],
   "source": [
    "df_hip1['len'].describe()"
   ]
  },
  {
   "cell_type": "markdown",
   "metadata": {},
   "source": [
    "O número de avaliações por filmes tem um desvio padrão alto, concentrando a maioria dos filmes com menos de 350 avaliações. Para fins de comparação, vamos considerar como um 'alto número de avaliações' a média acrescida de dois desvios padrões (269+(384*2) = 1.037)."
   ]
  },
  {
   "cell_type": "code",
   "execution_count": 76,
   "metadata": {},
   "outputs": [
    {
     "name": "stdout",
     "output_type": "stream",
     "text": [
      "P value: 2.4470435047055975e-46\n"
     ]
    }
   ],
   "source": [
    "from scipy import stats\n",
    "\n",
    "t, p = stats.ttest_ind(df_hip1.loc[df_hip1['len']>1037, 'mean'],df_hip1.loc[df_hip1['len']<=1037, 'mean'])\n",
    "print('P value: {}'.format(p))"
   ]
  },
  {
   "cell_type": "markdown",
   "metadata": {},
   "source": [
    "Como o valor de p é pequeno, descartamos a hipótese nula e confirmamos a alternativa, que indica que existe sim diferença estatística em filmes com maior número de avaliações."
   ]
  },
  {
   "cell_type": "markdown",
   "metadata": {},
   "source": [
    "## 2.2 O sexo do usuário influencia no tipo de filme avaliado\n",
    "\n",
    "Para essa hipótese podemos separar os filmes de acordo com seu gênero, identificando as notas masculinas e femininas de cada um. Como um filme pode ter mais de um gênero, vamos considerar todo o conjunto de gênero do filme, logo, é possível um filme aparecer em mais de um conjunto."
   ]
  },
  {
   "cell_type": "code",
   "execution_count": 9,
   "metadata": {},
   "outputs": [],
   "source": [
    "genres = set(df_movies['genres'].str.split('|').sum())\n",
    "df_hip2 = {}\n",
    "for g in genres:\n",
    "    df_hip2[g] = (\n",
    "        df_movies.loc[df_movies[g]==1,['movie_id', 'title']]\n",
    "        .set_index('movie_id')\n",
    "        .merge(df_ratings\n",
    "               .merge(df_users, left_on='user_id', right_on='user_id')[['movie_id','rating', 'gender']]\n",
    "              ,left_index=True, right_on='movie_id')\n",
    "        \n",
    "    )"
   ]
  },
  {
   "cell_type": "code",
   "execution_count": 53,
   "metadata": {},
   "outputs": [
    {
     "data": {
      "image/png": "[encoded data removed]",
      "text/plain": [
       "<Figure size 1440x504 with 1 Axes>"
      ]
     },
     "metadata": {
      "needs_background": "light"
     },
     "output_type": "display_data"
    }
   ],
   "source": [
    "from matplotlib.lines import Line2D\n",
    "plt.figure(figsize=(20,7))\n",
    "cmap = plt.cm.get_cmap('tab20')\n",
    "\n",
    "\n",
    "custom_lines = [Line2D([0], [0], color='green', lw=10),\n",
    "                Line2D([0], [0], color='red', lw=10)]\n",
    "\n",
    "avg_grade_f = []\n",
    "avg_grade_m = []\n",
    "\n",
    "for enum, g in enumerate(genres):\n",
    "    df_gen = df_hip2[g]\n",
    "    avg_grade_f.append(df_gen.loc[df_gen['gender']=='F','rating'].mean())\n",
    "    avg_grade_m.append(df_gen.loc[df_gen['gender']=='M','rating'].mean())\n",
    "    ratting_diff= df_gen.loc[df_gen['gender']=='F','rating'].mean()-df_gen.loc[df_gen['gender']=='M','rating'].mean()\n",
    "    plt.bar(enum, ratting_diff,color=('purple' if ratting_diff > 0 else 'blue'))\n",
    "\n",
    "\n",
    "ax = plt.gca()\n",
    "plt.xlabel('Movie genre')\n",
    "#ax.set_xticklabels(genres)\n",
    "plt.xticks(range(len(genres)),genres, rotation=45)\n",
    "plt.ylabel('Difference of Ratings means')\n",
    "ax.legend(custom_lines, ['Higher Femine Means', 'Higher Masculine Means'])\n",
    "plt.ylim([-.2,.2])\n",
    "plt.title('Mean ratting difference between genders of each genre')\n",
    "sns.despine()"
   ]
  },
  {
   "cell_type": "markdown",
   "metadata": {},
   "source": [
    "Comparando a diferença entre a média das notas de cada gênero pelos públicos masculinos e feminino, percebe-se que existe sim uma diferença que varia de acordo com o gênero, entretanto, não é um valor altamente significativo. Em uma escala de 1 a 5, a maior diferença entre as médias foi observada em filmes infantis e musicais (diferença de 0.2 pontos). Filmes de ação e drama, gêneros esteriotipados para públicos masculino e feminino, apresentou baixa difenrença entre as notas.\n",
    "\n",
    "Destaca-se como preferência masculina em frente à feminina filmes de Western e Noir.\n",
    "\n",
    "Novamente podemos confirmar a hipótese de que as notas diferem de acordo com o gênero usando o T-test com as seguintes hipóteses:\n",
    "\n",
    "- Hipótese nula: O sexo do usuário não influencia na nota do filme de acordo com seu gênero\n",
    "- Hipótese alternativa: O sexo do usuário influencia na nota do filme de acordo com seu gênero"
   ]
  },
  {
   "cell_type": "code",
   "execution_count": 55,
   "metadata": {},
   "outputs": [
    {
     "name": "stdout",
     "output_type": "stream",
     "text": [
      "P value: 0.6207139687508243\n"
     ]
    }
   ],
   "source": [
    "from scipy import stats\n",
    "\n",
    "t, p = stats.ttest_ind(avg_grade_f,avg_grade_m)\n",
    "print('P value: {}'.format(p))"
   ]
  },
  {
   "cell_type": "markdown",
   "metadata": {},
   "source": [
    "Com um p de 0.6 não podemos descartar a hipótese nula, logo, não há comprovação estatística que a nota varia de acordo com o sexo do usuário."
   ]
  },
  {
   "cell_type": "markdown",
   "metadata": {},
   "source": [
    "# 3 - Sistema de Recomendação"
   ]
  },
  {
   "cell_type": "markdown",
   "metadata": {},
   "source": [
    "Existem diversos tipos de sistemas de recomendação diferentes. Vamos testar três abordagens diferentes\n",
    "\n",
    "- Recomendação de filmes mais assistidos\n",
    "- Filtro colaborativo baseado em usuário\n",
    "- Matriz de fatorização\n",
    "\n",
    "As funções auxiliares abaixo irão servir para executar e testar os algoritmos"
   ]
  },
  {
   "cell_type": "code",
   "execution_count": 3,
   "metadata": {},
   "outputs": [],
   "source": [
    "def get_random_user_id():\n",
    "    return df_users['user_id'].sample(1).values[0]\n",
    "\n",
    "def user_ratings(user_id):\n",
    "    return df_ratings[df_ratings['user_id']==user_id]\n",
    "\n",
    "def user_saw_movie(user_id, movie_id):\n",
    "    return movie_id in user_rattings(user_id)['movie_id'].values\n",
    "\n",
    "def get_movie_title(movie_id):\n",
    "    return df_movies.loc[df_movies['movie_id']==movie_id, 'title'].values[0]"
   ]
  },
  {
   "cell_type": "markdown",
   "metadata": {},
   "source": [
    "Para aplicar alguns algoritmos a seguir vamos selecionar um usuário aleatório e ver os filmes que ele avaliou."
   ]
  },
  {
   "cell_type": "code",
   "execution_count": 4,
   "metadata": {},
   "outputs": [
    {
     "name": "stdout",
     "output_type": "stream",
     "text": [
      "Usuário: 2088\n",
      "Filmes avaliados:\n",
      "['Pawnbroker, The (1965)' 'Who Framed Roger Rabbit? (1988)'\n",
      " 'Nikita (La Femme Nikita) (1990)' 'Visitors, The (Les Visiteurs) (1993)'\n",
      " 'Giant Gila Monster, The (1959)' 'Invisible Man, The (1933)'\n",
      " 'Killer Shrews, The (1959)' 'Phantom of the Opera, The (1943)'\n",
      " 'Runaway (1984)' 'Honey, I Blew Up the Kid (1992)'\n",
      " 'Honey, I Shrunk the Kids (1989)' 'Day the Earth Stood Still, The (1951)'\n",
      " 'Thunderball (1965)' 'Treasure of the Sierra Madre, The (1948)'\n",
      " 'Stand by Me (1986)' 'Terminator 2: Judgment Day (1991)' 'Jumanji (1995)'\n",
      " 'Great Escape, The (1963)' 'Diva (1981)' 'Doctor Zhivago (1965)'\n",
      " 'Rock, The (1996)' 'Manchurian Candidate, The (1962)'\n",
      " 'Arsenic and Old Lace (1944)' 'Dances with Wolves (1990)'\n",
      " 'Twister (1996)' 'Barb Wire (1996)' 'Batman (1989)'\n",
      " 'Wild Bunch, The (1969)' \"They Shoot Horses, Don't They? (1969)\"\n",
      " 'Contender, The (2000)' 'Back to the Future (1985)'\n",
      " 'Cool Hand Luke (1967)' 'Arrival, The (1996)'\n",
      " 'Taming of the Shrew, The (1967)' '101 Dalmatians (1961)'\n",
      " 'Dr. Strangelove or: How I Learned to Stop Worrying and Love the Bomb (1963)'\n",
      " 'Popeye (1980)' 'Ben-Hur (1959)' 'Yojimbo (1961)' 'Omega Man, The (1971)'\n",
      " 'Spaceballs (1987)' 'Quest for Fire (1981)'\n",
      " \"Breakfast at Tiffany's (1961)\" 'Return to Oz (1985)'\n",
      " 'Indiana Jones and the Last Crusade (1989)' 'Rocketeer, The (1991)'\n",
      " 'Phantom, The (1996)' 'Son of Flubber (1963)' 'North by Northwest (1959)'\n",
      " 'Song of the South (1946)' 'Apartment, The (1960)' 'Charade (1963)'\n",
      " 'My Fair Lady (1964)' 'Wizard of Oz, The (1939)'\n",
      " '2001: A Space Odyssey (1968)' 'Golden Earrings (1947)'\n",
      " 'Independence Day (ID4) (1996)' 'Nutty Professor, The (1996)'\n",
      " 'Jewel of the Nile, The (1985)' 'Mimic (1997)' 'Longest Day, The (1962)'\n",
      " 'Romancing the Stone (1984)' 'Cocoon (1985)' 'Cocoon: The Return (1988)'\n",
      " 'Nothing But Trouble (1991)'\n",
      " 'Adventures of Buckaroo Bonzai Across the 8th Dimension, The (1984)'\n",
      " 'Young Sherlock Holmes (1985)' 'Sandpiper, The (1965)' 'Edge, The (1997)'\n",
      " 'Repulsion (1965)' 'Irma la Douce (1963)'\n",
      " 'Adventures of Robin Hood, The (1938)' 'Mark of Zorro, The (1940)'\n",
      " 'Faculty, The (1998)' 'Mighty Joe Young (1998)' 'Thing, The (1982)'\n",
      " 'Around the World in 80 Days (1956)' 'Mighty Joe Young (1949)'\n",
      " 'Anaconda (1997)' 'Night of the Living Dead (1968)'\n",
      " 'African Queen, The (1951)' 'Howard the Duck (1986)' 'Fly, The (1958)'\n",
      " 'Fly, The (1986)' 'Fly II, The (1989)'\n",
      " 'Baby... Secret of the Lost Legend (1985)' 'eXistenZ (1999)'\n",
      " 'Night to Remember, A (1958)' 'Wild Things (1998)'\n",
      " 'Hard-Boiled (Lashou shentan) (1992)' 'Forever Young (1992)'\n",
      " 'Crimson Pirate, The (1952)' 'My Science Project (1985)'\n",
      " 'Crocodile Dundee (1986)' 'Mummy, The (1999)'\n",
      " 'Crocodile Dundee II (1988)' 'Starship Troopers (1997)'\n",
      " 'Waterworld (1995)' \"Coogan's Bluff (1968)\"\n",
      " 'Star Wars: Episode I - The Phantom Menace (1999)' 'Peeping Tom (1960)'\n",
      " 'Lost in Space (1998)' 'Alien: Resurrection (1997)'\n",
      " 'To Sir with Love (1967)' 'My Favorite Martian (1999)' 'Superman (1978)'\n",
      " 'Superman II (1980)' 'Superman III (1983)'\n",
      " 'Superman IV: The Quest for Peace (1987)' 'Borrowers, The (1997)'\n",
      " \"Guess Who's Coming to Dinner (1967)\"\n",
      " 'Rocky Horror Picture Show, The (1975)' 'Flying Saucer, The (1950)'\n",
      " 'Blue Hawaii (1961)' 'G. I. Blues (1960)' 'Gypsy (1962)'\n",
      " 'Lord of the Flies (1963)' 'Thing From Another World, The (1951)'\n",
      " 'It Came from Outer Space (1953)' 'Universal Soldier (1992)'\n",
      " 'War of the Worlds, The (1953)' 'It Came from Beneath the Sea (1955)'\n",
      " 'Hud (1963)' 'Earth Vs. the Flying Saucers (1956)' 'Hustler, The (1961)'\n",
      " 'It Conquered the World (1956)' 'Inherit the Wind (1960)'\n",
      " 'Mole People, The (1956)' 'Swamp Thing (1982)' 'Roustabout (1964)'\n",
      " 'Close Encounters of the Third Kind (1977)'\n",
      " 'Thirteenth Floor, The (1999)' 'Ladyhawke (1985)' 'Deep Impact (1998)'\n",
      " 'Star Wars: Episode IV - A New Hope (1977)' 'Hamlet (1964)'\n",
      " 'Medicine Man (1992)' 'Carnival of Souls (1962)' 'Free Enterprise (1998)'\n",
      " 'Devil Girl From Mars (1954)' 'Dorado, El (1967)'\n",
      " 'Hideous Sun Demon, The (1959)' 'Hook (1991)'\n",
      " \"On Her Majesty's Secret Service (1969)\" 'Seven Days in May (1964)'\n",
      " 'Moonraker (1979)' 'True Grit (1969)' 'Blown Away (1994)'\n",
      " 'Six Days Seven Nights (1998)' 'Arachnophobia (1990)'\n",
      " 'Cliffhanger (1993)' 'Coneheads (1993)'\n",
      " 'Professional, The (a.k.a. Leon: The Professional) (1994)'\n",
      " 'Saturn 3 (1979)' 'Guns of Navarone, The (1961)'\n",
      " 'Quatermass and the Pit (1967)' 'Quatermass II (1957)'\n",
      " 'Demolition Man (1993)' 'Freejack (1992)' 'Puppet Master (1989)'\n",
      " 'Sinbad and the Eye of the Tiger (1977)' 'Puppet Master II (1990)'\n",
      " \"Puppet Master III: Toulon's Revenge (1991)\" \"Hard Day's Night, A (1964)\"\n",
      " 'Romeo and Juliet (1968)' 'Abyss, The (1989)'\n",
      " 'Escape from New York (1981)' 'Barefoot in the Park (1967)'\n",
      " 'Deliverance (1972)' 'Excalibur (1981)' 'Hard Target (1993)'\n",
      " 'Space Cowboys (2000)' 'For a Few Dollars More (1965)'\n",
      " 'Heavy Metal (1981)' 'Hellraiser: Bloodline (1996)'\n",
      " \"Brain That Wouldn't Die, The (1962)\" 'Predator 2 (1990)'\n",
      " 'Running Man, The (1987)' 'Starman (1984)' 'Jurassic Park (1993)'\n",
      " \"Squanto: A Warrior's Tale (1994)\" 'Forbidden Planet (1956)'\n",
      " 'Tron (1982)' 'Man Who Would Be King, The (1975)'\n",
      " 'Butch Cassidy and the Sundance Kid (1969)'\n",
      " 'Indiana Jones and the Temple of Doom (1984)'\n",
      " 'Lord of the Rings, The (1978)' 'Nineteen Eighty-Four (1984)'\n",
      " 'Mission: Impossible (1996)' 'Alien³ (1992)' 'Cell, The (2000)'\n",
      " 'Dragonheart (1996)' \"Who's Afraid of Virginia Woolf? (1966)\"\n",
      " 'Adventures in Babysitting (1987)' 'Cat Ballou (1965)'\n",
      " 'Doctor Dolittle (1967)' 'Birds, The (1963)'\n",
      " 'Nutty Professor, The (1963)' 'Blob, The (1958)' 'Supergirl (1984)'\n",
      " 'X: The Unknown (1956)'\n",
      " 'Star Wars: Episode V - The Empire Strikes Back (1980)'\n",
      " 'Princess Bride, The (1987)' 'Raiders of the Lost Ark (1981)'\n",
      " 'Brazil (1985)' 'Dark Crystal, The (1982)' 'Legend (1985)'\n",
      " 'Cape Fear (1962)' 'Highlander: Endgame (2000)'\n",
      " 'Mystery Science Theater 3000: The Movie (1996)' 'Space Jam (1996)'\n",
      " 'Barbarella (1968)' 'Avengers, The (1998)'\n",
      " 'Star Trek: First Contact (1996)' 'Jingle All the Way (1996)'\n",
      " 'Alphaville (1965)' 'Adventures of Pinocchio, The (1996)'\n",
      " 'Operation Dumbo Drop (1995)' 'Producers, The (1968)'\n",
      " 'Midnight Run (1988)' \"Rosemary's Baby (1968)\"\n",
      " 'NeverEnding Story, The (1984)' 'Blade (1998)' '2010 (1984)'\n",
      " 'Wrongfully Accused (1998)' 'Star Trek: The Motion Picture (1979)'\n",
      " 'Star Trek VI: The Undiscovered Country (1991)'\n",
      " 'Star Trek V: The Final Frontier (1989)'\n",
      " 'Star Trek: The Wrath of Khan (1982)'\n",
      " 'Star Trek III: The Search for Spock (1984)'\n",
      " 'Star Trek IV: The Voyage Home (1986)' 'Topaz (1969)'\n",
      " 'Batman Returns (1992)' 'Escape from L.A. (1996)' 'Soldier (1998)'\n",
      " 'Torn Curtain (1966)' 'Marnie (1964)' 'Fifth Element, The (1997)'\n",
      " 'Jaws (1975)' 'Godfather, The (1972)' 'Willow (1988)'\n",
      " 'Mars Attacks! (1996)' 'Sneakers (1992)' 'Hell in the Pacific (1968)'\n",
      " 'Runaway Train (1985)' 'Stepford Wives, The (1975)'\n",
      " 'Lost World: Jurassic Park, The (1997)' 'Bicentennial Man (1999)'\n",
      " 'Con Air (1997)' 'Island of Dr. Moreau, The (1996)' 'Pitch Black (2000)'\n",
      " 'Godzilla (Gojira) (1954)' 'Batman & Robin (1997)' 'Easy Rider (1969)'\n",
      " 'King Kong (1933)' 'King Kong (1976)' 'Hercules (1997)'\n",
      " 'For Whom the Bell Tolls (1943)' 'Emerald Forest, The (1985)'\n",
      " 'Galaxy Quest (1999)' 'Red Sonja (1985)' 'Face/Off (1997)'\n",
      " 'Lifeforce (1985)' 'Muppet Treasure Island (1996)' 'Westworld (1973)'\n",
      " \"Logan's Run (1976)\" 'Men in Black (1997)' 'Braveheart (1995)'\n",
      " 'Planet of the Apes (1968)' 'Rumble in the Bronx (1995)' 'Contact (1997)'\n",
      " 'Conan the Barbarian (1982)' 'Splendor in the Grass (1961)'\n",
      " 'Beneath the Planet of the Apes (1970)'\n",
      " 'Killing of Sister George, The (1968)'\n",
      " 'Battle for the Planet of the Apes (1973)'\n",
      " 'Conquest of the Planet of the Apes (1972)'\n",
      " 'Escape from the Planet of the Apes (1971)' 'Supernova (2000)'\n",
      " 'Event Horizon (1997)' 'Star Trek: Insurrection (1998)' 'Spawn (1997)'\n",
      " 'Shakespeare in Love (1998)' 'Miracle on 34th Street (1947)'\n",
      " 'Santa Claus: The Movie (1985)' 'Bride of the Monster (1956)'\n",
      " 'Wing Commander (1999)' 'Raisin in the Sun, A (1961)'\n",
      " 'Haunting, The (1963)' 'Mission to Mars (2000)'\n",
      " 'Village of the Damned (1960)' 'Children of the Damned (1963)'\n",
      " 'Wild Wild West (1999)' 'Odd Couple, The (1968)'\n",
      " 'Where Eagles Dare (1969)' 'X-Files: Fight the Future, The (1998)'\n",
      " 'Batman Forever (1995)' 'Belle de jour (1967)' 'Casper (1995)'\n",
      " 'Rules of Engagement (2000)' 'Bridge at Remagen, The (1969)'\n",
      " 'Matrix, The (1999)' 'Destination Moon (1950)' 'Armageddon (1998)'\n",
      " 'Quick and the Dead, The (1995)' 'Congo (1995)' 'Sphere (1998)'\n",
      " 'First Knight (1995)' 'Inspector Gadget (1999)' 'Deep Blue Sea (1999)'\n",
      " 'Mystery Men (1999)' 'Pi (1998)' 'Predator (1987)'\n",
      " 'Plan 9 from Outer Space (1958)' 'Spartacus (1960)' 'Lolita (1962)'\n",
      " 'Stargate (1994)' 'Johnny Mnemonic (1995)' 'Judge Dredd (1995)'\n",
      " 'American Psycho (2000)' 'Mutiny on the Bounty (1935)'\n",
      " 'Golden Child, The (1986)' 'Star Trek: Generations (1994)'\n",
      " 'Net, The (1995)' 'What Ever Happened to Baby Jane? (1962)'\n",
      " 'Little Shop of Horrors, The (1960)'\n",
      " 'Allan Quartermain and the Lost City of Gold (1987)'\n",
      " 'Morning After, The (1986)' 'West Side Story (1961)' 'Tom Jones (1963)'\n",
      " 'Village of the Damned (1995)' 'GoldenEye (1995)'\n",
      " 'Man for All Seasons, A (1966)' 'Cutthroat Island (1995)'\n",
      " 'Virtuosity (1995)' 'Species (1995)' 'Strange Days (1995)'\n",
      " 'In the Heat of the Night (1967)' 'U-571 (2000)' 'Midnight Cowboy (1969)'\n",
      " 'French Connection, The (1971)' 'Swiss Family Robinson (1960)'\n",
      " '20,000 Leagues Under the Sea (1954)' 'Powder (1995)'\n",
      " 'Clear and Present Danger (1994)' 'City of Lost Children, The (1995)'\n",
      " 'Brother from Another Planet, The (1984)' 'Alien Nation (1988)'\n",
      " 'Mad Max (1979)' 'Mad Max 2 (a.k.a. The Road Warrior) (1981)'\n",
      " 'Phantasm (1979)' 'Mad Max Beyond Thunderdome (1985)' 'Sanjuro (1962)'\n",
      " 'Thomas Crown Affair, The (1968)' 'Take the Money and Run (1969)'\n",
      " 'Mary Poppins (1964)' 'Twelve Monkeys (1995)' 'Carnosaur (1993)'\n",
      " 'Total Recall (1990)' 'Hidden, The (1987)' 'Sound of Music, The (1965)'\n",
      " 'Gladiator (2000)' 'Lawnmower Man, The (1992)' 'No Escape (1994)'\n",
      " 'Jungle Book, The (1994)' \"Hang 'em High (1967)\" 'Raven, The (1963)'\n",
      " 'Pit and the Pendulum (1961)'\n",
      " \"Robert A. Heinlein's The Puppet Masters (1994)\" 'Tales of Terror (1962)'\n",
      " 'Ghost and the Darkness, The (1996)' 'Timecop (1994)'\n",
      " 'Conversation, The (1974)' 'Lonely Are the Brave (1962)'\n",
      " 'True Lies (1994)' 'Indian in the Cupboard, The (1995)' 'Aliens (1986)'\n",
      " 'Good, The Bad and The Ugly, The (1966)' 'Mask of Zorro, The (1998)'\n",
      " 'Lawrence of Arabia (1962)' 'Dirty Dozen, The (1967)'\n",
      " 'Clockwork Orange, A (1971)' 'Help! (1965)' 'Soylent Green (1973)'\n",
      " 'To Kill a Mockingbird (1962)' 'Goldfinger (1964)'\n",
      " 'From Russia with Love (1963)' 'Once Upon a Time in the West (1969)'\n",
      " 'Dr. No (1962)' 'Faster Pussycat! Kill! Kill! (1965)'\n",
      " 'From Dusk Till Dawn (1996)' 'Screamers (1995)' 'Metropolis (1926)'\n",
      " 'Back to the Future Part II (1989)' 'Back to the Future Part III (1990)'\n",
      " 'Star Wars: Episode VI - Return of the Jedi (1983)'\n",
      " 'Blue Lagoon, The (1980)' 'Poseidon Adventure, The (1972)'\n",
      " 'Fistful of Dollars, A (1964)' 'Absent Minded Professor, The (1961)'\n",
      " 'Perfect Storm, The (2000)' 'Alien (1979)' 'Babes in Toyland (1961)'\n",
      " 'Army of Darkness (1993)' 'Communion (1989)'\n",
      " 'Seven Samurai (The Magnificent Seven) (Shichinin no samurai) (1954)'\n",
      " 'Killer, The (Die xue shuang xiong) (1989)' 'Psycho (1960)'\n",
      " 'Blade Runner (1982)' 'Sleeper (1973)' 'Super Mario Bros. (1993)'\n",
      " 'White Squall (1996)' 'Dune (1984)' 'Godfather: Part II, The (1974)'\n",
      " 'Full Metal Jacket (1987)' 'Saving Private Ryan (1998)'\n",
      " 'Time Bandits (1981)' 'Great Race, The (1965)' 'Bonnie and Clyde (1967)'\n",
      " 'Old Man and the Sea, The (1958)' 'Three Musketeers, The (1993)'\n",
      " 'Dreamscape (1984)' 'Golden Voyage of Sinbad, The (1974)'\n",
      " 'Annie Hall (1977)' 'Black Hole, The (1979)'\n",
      " 'Boat, The (Das Boot) (1981)' 'Faces (1968)'\n",
      " 'E.T. the Extra-Terrestrial (1982)' 'Bikini Beach (1964)'\n",
      " 'Return of the Fly (1959)' 'Voyage to the Bottom of the Sea (1961)'\n",
      " 'Rocketship X-M (1950)' 'Fantastic Voyage (1966)'\n",
      " 'Terminator, The (1984)' 'Glory (1989)' 'Ipcress File, The (1965)'\n",
      " 'Robocop (1987)' 'Blowup (1966)' 'Robocop 2 (1990)'\n",
      " 'Happiest Millionaire, The (1967)' 'Graduate, The (1967)']\n"
     ]
    }
   ],
   "source": [
    "user_id = get_random_user_id()\n",
    "print('Usuário: {}'.format(user_id))\n",
    "print('Filmes avaliados:')\n",
    "print(user_ratings(user_id)['movie_id'].apply(get_movie_title).values)"
   ]
  },
  {
   "cell_type": "markdown",
   "metadata": {},
   "source": [
    "## 3.1 Top N filmes\n",
    "\n",
    "Filmes com muitas visualizações são, normalmente, filmes famosos ou clássicos, servindo de recomendação a todos os usuários, independente de seus gostos. Logo, uma estratégia bem simples e eficiente para recomendar um filme é usar filmes que foram assistidos muitas vezes. Nessa conta simples, basta ordenar os filmes pelo número de avaliações, remover os filmes que o usuário já viu e recomendar os primeiros."
   ]
  },
  {
   "cell_type": "code",
   "execution_count": 7,
   "metadata": {},
   "outputs": [
    {
     "data": {
      "text/plain": [
       "array(['American Beauty (1999)', 'Silence of the Lambs, The (1991)',\n",
       "       'Fargo (1996)', 'Sixth Sense, The (1999)',\n",
       "       \"Schindler's List (1993)\", 'L.A. Confidential (1997)',\n",
       "       'Groundhog Day (1993)', 'Being John Malkovich (1999)',\n",
       "       'Shawshank Redemption, The (1994)', 'Forrest Gump (1994)'],\n",
       "      dtype=object)"
      ]
     },
     "execution_count": 7,
     "metadata": {},
     "output_type": "execute_result"
    }
   ],
   "source": [
    "def top_n_itens(user_id, ratings, n_items=10):\n",
    "        \n",
    "    return (ratings.loc[~ratings['movie_id']\n",
    "                        .isin(user_ratings(user_id)['movie_id'].values),'movie_id']\n",
    "            .value_counts()\n",
    "            .head(n_items)\n",
    "            .reset_index()\n",
    "            .apply(lambda x: get_movie_title(x['index']), axis=1)\n",
    "    ).values\n",
    "\n",
    "top_n_itens(user_id, df_ratings)"
   ]
  },
  {
   "cell_type": "markdown",
   "metadata": {},
   "source": [
    "Apesar da vantagem de ser um algoritmo simples, fácil e rápido, ele não é tão personalizável para cada usuário, e acaba não levando em consideração suas preferências pessoais."
   ]
  },
  {
   "cell_type": "markdown",
   "metadata": {},
   "source": [
    "## 3.2 Filtro Colaborativo\n",
    "\n",
    "O filtro colaborativo procura identificar semelhança entre os registros e recomendar outros registros com semelhança parecida. É possível aplicar o filtro colaborativo baseado no usuário ou no gênero. Nesse algoritmo vamos aplicar o filtro baseado no usuário.\n",
    "\n",
    "Para isso precisamos de uma matriz que relaciona a nota que um usuário deu para cada filme (pivotando a matriz original de notas) e uma medida de similaridade entre vetores, para identificar usuários que deram notas semelhantes para os mesmos filmes e ver quais outros filmes eles gostaram. Será utilizada a similaridade entre cossenos que ignora nota 0 (simbolizando que não viu o filme)."
   ]
  },
  {
   "cell_type": "code",
   "execution_count": 8,
   "metadata": {},
   "outputs": [
    {
     "data": {
      "text/plain": [
       "['American Beauty (1999)',\n",
       " 'Silence of the Lambs, The (1991)',\n",
       " 'Sixth Sense, The (1999)',\n",
       " 'Fargo (1996)',\n",
       " \"Schindler's List (1993)\",\n",
       " 'Shawshank Redemption, The (1994)',\n",
       " 'L.A. Confidential (1997)',\n",
       " 'Pulp Fiction (1994)',\n",
       " 'Being John Malkovich (1999)',\n",
       " 'Forrest Gump (1994)']"
      ]
     },
     "execution_count": 8,
     "metadata": {},
     "output_type": "execute_result"
    }
   ],
   "source": [
    "from collections import Counter\n",
    "from sklearn.metrics.pairwise import cosine_similarity\n",
    "\n",
    "def collaborative_filtering(user_id, ratings, n_items=10, min_similarity_score=0, min_rating=4):\n",
    "    \n",
    "    ratings = ratings.pivot_table(index='user_id', columns='movie_id', values='rating').fillna(0)\n",
    "    similarity = cosine_similarity(ratings[ratings.index==user_id], ratings)        \n",
    "    similarity_matrix = ratings[(similarity>min_similarity_score)[0]]\n",
    "    recommedantions = ratings.loc[ratings.index.isin(similarity_matrix.index)].unstack().reset_index(name='rating')                \n",
    "    recommedantions = recommedantions.loc[(recommedantions['rating']>=min_rating)\n",
    "                                        &~(recommedantions['movie_id'].isin(user_ratings(user_id)['movie_id'])), 'movie_id'].values                            \n",
    "    top_recommedantions = Counter(recommedantions)\n",
    "\n",
    "    return [get_movie_title(x[0]) for x in top_recommedantions.most_common(n_items)]\n",
    "\n",
    "collaborative_filtering(user_id, df_ratings)"
   ]
  },
  {
   "cell_type": "markdown",
   "metadata": {},
   "source": [
    "O filtro colaborativo, diferente da primeira abordagem, recomenda itens com perfil mais similar ao do usuário, uma vez que identifica outros usuários com gostos em comum. Acrescentamos um valor mínimo para um usuário ser considerado similar e uma nota mínima que ele deve ter avaliado o filme, para evitar de recomendar filmes que foram mal avaliados."
   ]
  },
  {
   "cell_type": "markdown",
   "metadata": {},
   "source": [
    "## 3.3 Fatorização de Matriz\n",
    "\n",
    "A última técnica aplicada é a fatorização de matriz. Essa técnica identifica variáveis latentes que explicam características dos filmes, como por exemplo seu gênero, para prever a nota que um usuário daria para cada filme. Variáveis latentes são uma forma de redução de dimensionalidade, identificando duas matrizes que, ao se multiplicar, resultam na matriz original. A fatorização de matriz é preferível quando temos uma matriz esparsa com valores faltantes, uma vez que ela tem flexibilidade para lidar com valores faltantes (ao contrário, por exemplo, da SVD, que precisa de uma matriz completa)."
   ]
  },
  {
   "cell_type": "code",
   "execution_count": null,
   "metadata": {},
   "outputs": [],
   "source": [
    "import numpy as np\n",
    "from sklearn.decomposition import NMF \n",
    "    \n",
    "def matrix_factorization(user_id, ratings, n_items=10, hidden_features=None):\n",
    "    \n",
    "    if hidden_features is None:\n",
    "        hidden_features = int(ratings.shape[0]*0.1)\n",
    "\n",
    "    ratings = ratings.pivot_table(index='user_id', columns='movie_id', values='rating').fillna(0)\n",
    "    model = NMF(n_components=hidden_features, init='random', random_state=0)\n",
    "    W = model.fit_transform(ratings)\n",
    "    H = model.components_\n",
    "\n",
    "    ratings_pred = (pd.DataFrame(np.dot(W, H), columns=ratings.columns, index=ratings.index)\n",
    "                    .unstack()\n",
    "                    .reset_index(level=0, name='rating')\n",
    "                    .reset_index()\n",
    "                   )\n",
    "    return (ratings_pred[(ratings_pred['user_id']==user_id)\n",
    "                         &(~ratings_pred['movie_id'].isin(user_ratings(user_id)['movie_id']))\n",
    "                        ]\n",
    "            .sort_values('rating')\n",
    "            .head(n_items)\n",
    "            ['movie_id'].apply(get_movie_title)\n",
    "            .values\n",
    "           )\n",
    "    \n",
    "\n",
    "matrix_factorization(user_id, df_ratings)"
   ]
  },
  {
   "cell_type": "markdown",
   "metadata": {},
   "source": [
    "Neste caso, a recomendação de itens tenta calcular a nota que o usuário daria para cada item, retornando os itens com maior nota. Para melhorar o resultado, é possível aumentar o número de variáveis latentes."
   ]
  },
  {
   "cell_type": "markdown",
   "metadata": {},
   "source": [
    "## 4 Avaliação do Sistema de Recomendação"
   ]
  },
  {
   "cell_type": "markdown",
   "metadata": {},
   "source": [
    "Existem algumas formas de se avaliar um sistema de recomendação. A primeira é retirar algumas avaliações de usuários, rodar a recomendação e verificar se recomendaram os itens faltantes.\n",
    "\n",
    "Outra forma é, com sistema de avaliações que prevê uma a nota, usar métricas de avaliação de regressão como o r2_score ou RMSE, para avaliar a nota da máquina.\n",
    "\n",
    "Por fim, pode-se criar novos dados de usuários, pedindo para dar notas em alguns filmes e avaliar as recomendações que o sistema faz a partir dali.\n",
    "\n",
    "Várias outras técnicas podem ser vistas <a href='https://towardsdatascience.com/evaluation-metrics-for-recommender-systems-df56c6611093' target='blank'>neste link</a>."
   ]
  },
  {
   "cell_type": "markdown",
   "metadata": {},
   "source": [
    "# 5 Conclusão e Passos Futuros\n",
    "\n",
    "Os passos aqui descritos mostram a implementação de 3 tipos de sistemas de recomendação. Existem vários outros sistemas disponíveis como KNN, Apriori, SVD++, etc. Bibliotecas como a Surprise ou a CaseRecommender implementam essas e outrasa técnicas de recomendação.\n",
    "\n",
    "É possível aprimorar os algoritmos anteriores, principalmente o de fatorização de matriz, otimizando os parâmetros de entrada. Também é possível usar outros tipos de algoritmos de machine learning, aproveitando outras informações dos dados como os gêneros dos filmes, o ano, informações dos usuários, etc."
   ]
  },
  {
   "cell_type": "markdown",
   "metadata": {},
   "source": [
    "# 6 Extra\n",
    "\n",
    "Para facilitar o uso e expansão futura do sistema de recomendação, podemos compilar os tipos de algoritmos em uma mesma classe."
   ]
  },
  {
   "cell_type": "code",
   "execution_count": 110,
   "metadata": {},
   "outputs": [],
   "source": [
    "import pandas as pd\n",
    "import numpy as np\n",
    "from collections import Counter\n",
    "from sklearn.base import BaseEstimator\n",
    "from sklearn.metrics.pairwise import cosine_similarity\n",
    "from sklearn.decomposition import NMF\n",
    "\n",
    "\n",
    "class MovieLensRecommender(BaseEstimator):\n",
    "    \"\"\"\n",
    "    A recommendation system to recommend movies for users\n",
    "    \n",
    "\n",
    "    Parameters\n",
    "    ----------\n",
    "    ratings : pandas DataFrame\n",
    "        Data of users movie ratings \n",
    "    movies : pandas DataFrame\n",
    "        Data of movies\n",
    "    users : pandas DataFrame\n",
    "        Data of users\n",
    "    recommender : String (top_n, collaborative, matrix_factorization)\n",
    "        Type of recommender algorithm\n",
    "\n",
    "    Attributes\n",
    "    -------\n",
    "    ratings : pandas DataFrame\n",
    "        Data of users movie ratings \n",
    "    movies : pandas DataFrame\n",
    "        Data of movies\n",
    "    users : pandas DataFrame\n",
    "        Data of users\n",
    "    recommender : String (top_n, collaborative, matrix_factorization)\n",
    "        Type of recommender algorithm\n",
    "    pivot_ratings : pandas DataFrame\n",
    "        Pivot data of movies evaluation\n",
    "    n_items: int (default 10)\n",
    "        Number of items to recommend\n",
    "\n",
    "\n",
    "    \"\"\"\n",
    "\n",
    "    \n",
    "    def __init__(self, ratings, movies, users, recommender='top_n', n_items=10):\n",
    "        \n",
    "        self.ratings = ratings\n",
    "        self.pivot_ratings = ratings.pivot_table(index='user_id', columns='movie_id', values='rating').fillna(0)\n",
    "        self.movies = movies\n",
    "        self.users = users\n",
    "        self.recommender = recommender\n",
    "        self.n_items = n_items\n",
    "        self.ratings_pred = None\n",
    "        \n",
    "\n",
    "    def get_random_user_id(self):\n",
    "        return self.users['user_id'].sample(1).values[0]\n",
    "    \n",
    "\n",
    "    def user_ratings(self, user_id):\n",
    "        return self.ratings[self.ratings['user_id']==user_id]\n",
    "    \n",
    "\n",
    "    def get_movie_title(self, movie_id):\n",
    "        return self.movies.loc[self.movies['movie_id']==movie_id, 'title'].values[0]\n",
    "        \n",
    "\n",
    "    def fit_predict(self, X, y=None, **kwargs):\n",
    "        \"\"\"\n",
    "        Make recommendations for user\n",
    "\n",
    "        Parameters\n",
    "        ----------\n",
    "        X : int or array\n",
    "            Student id or student enrollments progress data\n",
    "        y : pandas DataFrame\n",
    "            Raw data\n",
    "        kwargs : dict\n",
    "            Parameters for the recommendation algorithm\n",
    "\n",
    "        Returns\n",
    "        -------\n",
    "        user_id, recommender : set\n",
    "            User id with a set of courses recommendations with its score\n",
    "\n",
    "        \"\"\"\n",
    "\n",
    "\n",
    "        if y is not None:\n",
    "            self.pivot_ratings = y.pivot_table(index='user_id', columns='movie_id', values='rating').fillna(0)\n",
    "            self.ratings = df_data\n",
    "        \n",
    "        if self.recommender == 'top_n':\n",
    "            return self.top_n_itens(X, **kwargs)  \n",
    "        \n",
    "        elif self.recommender == 'collaborative':\n",
    "            return self.collaborative_filtering(X, **kwargs)  \n",
    "        \n",
    "        elif self.recommender == 'matrix_factorization':\n",
    "            return self.matrix_factorization(X, **kwargs)  \n",
    "            \n",
    "\n",
    "    def fit(self, X, y=None, **kwargs):\n",
    "        \"\"\"\n",
    "        Make recommendations for user\n",
    "\n",
    "        Parameters\n",
    "        ----------\n",
    "        X : int or array\n",
    "            Student id or student enrollments progress data\n",
    "        y : pandas DataFrame\n",
    "            Raw data\n",
    "        kwargs : dict\n",
    "            Parameters for the recommendation algorithm\n",
    "\n",
    "        Returns\n",
    "        -------\n",
    "        user_id, recommender : set\n",
    "            User id with a set of courses recommendations with its score\n",
    "\n",
    "        \"\"\"\n",
    "\n",
    "        self.fit_predict(X, y, **kwargs)  \n",
    "        return self\n",
    "\n",
    "    def predict(self, X, y=None, **kwargs):\n",
    "        \"\"\"\n",
    "        Make recommendations for user\n",
    "\n",
    "        Parameters\n",
    "        ----------\n",
    "        X : int or array\n",
    "            Student id or student enrollments progress data\n",
    "        y : pandas DataFrame\n",
    "            Raw data\n",
    "        kwargs : dict\n",
    "            Parameters for the recommendation algorithm\n",
    "\n",
    "        Returns\n",
    "        -------\n",
    "        user_id, recommender : set\n",
    "            User id with a set of courses recommendations with its score\n",
    "\n",
    "        \"\"\"\n",
    "\n",
    "        return self.fit_predict(X, y, **kwargs)  \n",
    "    \n",
    "    def top_n_itens(self, user_id, n_items=None):\n",
    "        \"\"\"\n",
    "        Recommend top n_items movies to user, removing movies that the user already saw\n",
    "\n",
    "        Parameters\n",
    "        ----------\n",
    "        user_id : int\n",
    "            user id\n",
    "        n_items : int\n",
    "            Number of items to recommend\n",
    "\n",
    "        Returns\n",
    "        -------\n",
    "        recommenders : list\n",
    "            A list of recommended movies for the user\n",
    "\n",
    "        \"\"\"\n",
    "        \n",
    "        ratings = self.ratings        \n",
    "        if n_items is None:\n",
    "             n_items = self.n_items\n",
    "        \n",
    "        return (ratings.loc[~ratings['movie_id']\n",
    "                            .isin(user_ratings(user_id)['movie_id'].values),'movie_id']\n",
    "                .value_counts()\n",
    "                .head(n_items)\n",
    "                .reset_index()\n",
    "                .apply(lambda x: get_movie_title(x['index']), axis=1)\n",
    "        ).values\n",
    "    \n",
    "    def collaborative_filtering(self, user_id, n_items=None, min_similarity_score=0, min_rating=4):\n",
    "        \"\"\"\n",
    "        Recommend top n_items movies to user, removing movies that the user already saw\n",
    "\n",
    "        Parameters\n",
    "        ----------\n",
    "        user_id : int\n",
    "            user id\n",
    "        n_items : int\n",
    "            Number of items to recommend\n",
    "        min_similarity_score : float\n",
    "            Mininum threshold for a user be consider similar\n",
    "        min_rating : int (default 4)\n",
    "            Minimum movie rating for recomendation\n",
    "        Returns\n",
    "        -------\n",
    "        recommenders : list\n",
    "            A list of recommended movies for the user\n",
    "\n",
    "        \"\"\"\n",
    "    \n",
    "        if n_items is None:\n",
    "             n_items = self.n_items\n",
    "        \n",
    "        ratings = self.pivot_ratings\n",
    "        similarity = cosine_similarity(ratings[ratings.index==user_id], ratings)        \n",
    "        similarity_matrix = ratings[(similarity>min_similarity_score)[0]]\n",
    "        recommedantions = ratings.loc[ratings.index.isin(similarity_matrix.index)].unstack().reset_index(name='rating')                \n",
    "        recommedantions = recommedantions.loc[(recommedantions['rating']>=min_rating)\n",
    "                                            &~(recommedantions['movie_id'].isin(user_ratings(user_id)['movie_id'])), 'movie_id'].values                            \n",
    "        top_recommedantions = Counter(recommedantions)\n",
    "\n",
    "        return [get_movie_title(x[0]) for x in top_recommedantions.most_common(n_items)]\n",
    "    \n",
    "    def matrix_factorization(user_id, n_items=None, hidden_features=None):\n",
    "    \n",
    "        \"\"\"\n",
    "        Recommend top n_items movies to user, removing movies that the user already saw\n",
    "\n",
    "        Parameters\n",
    "        ----------\n",
    "        user_id : int\n",
    "            user id\n",
    "        n_items : int\n",
    "            Number of items to recommend\n",
    "        hidden_features : int \n",
    "            Number of hidden for algorithm\n",
    "\n",
    "        Returns\n",
    "        -------\n",
    "        recommenders : list\n",
    "            A list of recommended movies for the user\n",
    "\n",
    "        \"\"\"\n",
    "        \n",
    "        \n",
    "        if n_items is None:\n",
    "             n_items = self.n_items\n",
    "    \n",
    "        if hidden_features is None:\n",
    "            hidden_features = int(ratings.shape[0]*0.1)\n",
    "        \n",
    "        if (self.ratings_pred is None) or (self.model.n_components!=hidden_features):\n",
    "\n",
    "            ratings = self.pivot_ratings\n",
    "            self.model = NMF(n_components=hidden_features, init='random', random_state=0)\n",
    "            W = self.model.fit_transform(ratings)\n",
    "            H = self.model.components_\n",
    "\n",
    "            self.ratings_pred = (pd.DataFrame(np.dot(W, H), columns=ratings.columns, index=ratings.index)\n",
    "                            .unstack()\n",
    "                            .reset_index(level=0, name='rating')\n",
    "                            .reset_index()\n",
    "                           )\n",
    "        \n",
    "        return (self.ratings_pred[(ratings_pred['user_id']==user_id)\n",
    "                             &(~ratings_pred['movie_id'].isin(user_ratings(user_id)['movie_id']))\n",
    "                            ]\n",
    "                .sort_values('rating')\n",
    "                .head(n_items)\n",
    "                ['movie_id'].apply(get_movie_title)\n",
    "                .values\n",
    "               )"
   ]
  },
  {
   "cell_type": "code",
   "execution_count": 111,
   "metadata": {},
   "outputs": [],
   "source": [
    "mr = MovieLensRecommender(movies=df_movies, ratings=df_ratings, users=df_users, n_items=5)\n",
    "rand_user = mr.get_random_user_id()"
   ]
  },
  {
   "cell_type": "code",
   "execution_count": 115,
   "metadata": {},
   "outputs": [
    {
     "name": "stdout",
     "output_type": "stream",
     "text": [
      "['Star Wars: Episode V - The Empire Strikes Back (1980)'\n",
      " 'Star Wars: Episode VI - Return of the Jedi (1983)'\n",
      " 'Jurassic Park (1993)' 'Saving Private Ryan (1998)' 'Matrix, The (1999)']\n",
      "['American Beauty (1999)', 'Star Wars: Episode IV - A New Hope (1977)', 'Raiders of the Lost Ark (1981)', 'Silence of the Lambs, The (1991)', 'Sixth Sense, The (1999)']\n"
     ]
    }
   ],
   "source": [
    "print('Top N Items:')\n",
    "print(mr.top_n_itens(rand_user))\n",
    "print('-----------------------------------\\n')\n",
    "print('Filtro Colaborativo:')\n",
    "print(mr.collaborative_filtering(rand_user))\n",
    "print('-----------------------------------\\n')\n",
    "print('Fatorização de Matriz:')\n",
    "print(mr.matrix_factorization(rand_user))\n",
    "print('-----------------------------------\\n')"
   ]
  }
 ],
 "metadata": {
  "kernelspec": {
   "display_name": "Python 3",
   "language": "python",
   "name": "python3"
  },
  "language_info": {
   "codemirror_mode": {
    "name": "ipython",
    "version": 3
   },
   "file_extension": ".py",
   "mimetype": "text/x-python",
   "name": "python",
   "nbconvert_exporter": "python",
   "pygments_lexer": "ipython3",
   "version": "3.6.1"
  }
 },
 "nbformat": 4,
 "nbformat_minor": 2
}
